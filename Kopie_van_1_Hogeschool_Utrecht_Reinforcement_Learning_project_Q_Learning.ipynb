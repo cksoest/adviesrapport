{
  "nbformat": 4,
  "nbformat_minor": 0,
  "metadata": {
    "colab": {
      "name": "Kopie van 1_Hogeschool-Utrecht_Reinforcement-Learning-project_Q-Learning.ipynb",
      "provenance": [],
      "collapsed_sections": []
    },
    "kernelspec": {
      "name": "python3",
      "display_name": "Python 3"
    }
  },
  "cells": [
    {
      "cell_type": "markdown",
      "metadata": {
        "id": "6eU2QJ--T4dd"
      },
      "source": [
        "# Reinforcement Learning project - Q-Learning\n",
        "\n",
        "\n"
      ]
    },
    {
      "cell_type": "markdown",
      "metadata": {
        "id": "6qdkwbpRUhzO"
      },
      "source": [
        "## Aim\n",
        "In this lab we are going to solve two simple [OpenAI Gym](https://gym.openai.com/) environments using [Q-Learning](https://en.wikipedia.org/wiki/Q-learning). Specifically, the [CartPole-v0](https://gym.openai.com/envs/CartPole-v0/) and [MountainCar-v0](https://gym.openai.com/envs/MountainCar-v0/) environments.\n",
        "\n",
        "We will try to create a table containing the expected reward for each combination of a *state* and *action*. We will use this table to choose the (hopefully) best action given the state the system is in.\n",
        "\n",
        "While this may not be the most advanced or complicated model there is, it is perfect for this task! Furthermore, it can be trained in a relatively short time!\n",
        "\n",
        "## Runtime and environment\n",
        "This [Jupyter Notebook](https://jupyterlab.readthedocs.io/en/latest/) was made to run on Google Colab. For this training, we recommend using the Google Colab environment.\n",
        "\n",
        "Please read the [instructions on Google Colab](https://medium.com/swlh/the-best-place-to-get-started-with-ai-google-colab-tutorial-for-beginners-715e64bb603b) to get started quickly. It behaves similar to Jupyter Notebook, Jupyter Hub and Jupyter Lab, so if you have any experience with those, you're good to go!\n",
        "\n",
        "Some notes on Google Colab:\n",
        "- **Processes in Google Colab won't run forever**. These may be terminated at any time when the platform is crowded, and *will definitely* terminate after 12 hours. To maintain persistency, you can attach the session to **Google Drive** and have your models persist themselves to the Google Drive periodically.\n",
        "- You can enable GPU or TPU support! You can find this option under *Runtime* -> *Change runtime type*.\n",
        "- After installing dependencies, you need to restart the runtime in order to actually use them.\n",
        "\n",
        "If you want to run the code on your own platform or system, you need to keep a few things in mind:\n",
        "- The dependencies you need to install may differ from the ones we installed here. The installed dependencies are suitable for Google Colab, Ubuntu, and Debian.\n",
        "- Since Google Colab isn't attached to a monitor, we render the output to a video file. On your own machine the built-in render method from OpenAI's Gym may suffice.\n",
        "- The default paths use Google Drive! Change these.\n",
        "\n",
        "## Info Support\n",
        "This assignment was developed by Info Support. Looking for a graduation project or job? Check out their website: https://carriere.infosupport.com/\n",
        "\n"
      ]
    },
    {
      "cell_type": "markdown",
      "metadata": {
        "id": "P7mfjQyuT_zV"
      },
      "source": [
        "# Preparation"
      ]
    },
    {
      "cell_type": "markdown",
      "metadata": {
        "id": "d_LwZ18PXsaL"
      },
      "source": [
        "Some dependencies need to be installed for the code to work. Furthermore, we will define some methods which allow us to show the OpenAI Gym renderings in this (headless) Google Colab environment.\n",
        "\n",
        "You only have to run these and don't need to change any of the code."
      ]
    },
    {
      "cell_type": "code",
      "metadata": {
        "id": "PBdwK87YUI9Y",
        "colab": {
          "base_uri": "https://localhost:8080/"
        },
        "outputId": "1d43e479-fed7-40c8-be47-ef3b18e61825"
      },
      "source": [
        "# Install dependencies\n",
        "\"\"\"Note: if you are running this code on your own machine, you probably don't need all of these.\n",
        "   Start with 'pip install gym' and install more packages if you run into errors.\"\"\"\n",
        "!apt-get update > /dev/null 2>&1\n",
        "!apt-get install -y xvfb python-opengl ffmpeg cmake > /dev/null 2>&1\n",
        "\n",
        "!pip install gym pyvirtualdisplay > /dev/null 2>&1\n",
        "!pip install --upgrade setuptools 2>&1\n",
        "!pip install ez_setup > /dev/null 2>&1\n",
        "!pip install gym[atari] > /dev/null 2>&1\n",
        "!pip install colabgymrender"
      ],
      "execution_count": 1,
      "outputs": [
        {
          "output_type": "stream",
          "text": [
            "Requirement already up-to-date: setuptools in /usr/local/lib/python3.7/dist-packages (57.0.0)\n",
            "Collecting colabgymrender\n",
            "  Downloading https://files.pythonhosted.org/packages/19/1d/47289e427492af14ced09dfe1531bf3ce8178e7504a8222669b3193d165e/colabgymrender-1.0.9-py3-none-any.whl\n",
            "Requirement already satisfied: moviepy in /usr/local/lib/python3.7/dist-packages (from colabgymrender) (0.2.3.5)\n",
            "Requirement already satisfied: tqdm<5.0,>=4.11.2 in /usr/local/lib/python3.7/dist-packages (from moviepy->colabgymrender) (4.41.1)\n",
            "Requirement already satisfied: imageio<3.0,>=2.1.2 in /usr/local/lib/python3.7/dist-packages (from moviepy->colabgymrender) (2.4.1)\n",
            "Requirement already satisfied: numpy in /usr/local/lib/python3.7/dist-packages (from moviepy->colabgymrender) (1.19.5)\n",
            "Requirement already satisfied: decorator<5.0,>=4.0.2 in /usr/local/lib/python3.7/dist-packages (from moviepy->colabgymrender) (4.4.2)\n",
            "Requirement already satisfied: pillow in /usr/local/lib/python3.7/dist-packages (from imageio<3.0,>=2.1.2->moviepy->colabgymrender) (7.1.2)\n",
            "Installing collected packages: colabgymrender\n",
            "Successfully installed colabgymrender-1.0.9\n"
          ],
          "name": "stdout"
        }
      ]
    },
    {
      "cell_type": "code",
      "metadata": {
        "id": "y7IG_wxod9mW",
        "colab": {
          "base_uri": "https://localhost:8080/"
        },
        "outputId": "83aa65b8-8d43-462c-e8d6-d27c9f47773d"
      },
      "source": [
        "# Imports for helper functions\n",
        "import base64\n",
        "import io\n",
        "import math\n",
        "from pathlib import Path\n",
        "\n",
        "import gym\n",
        "import matplotlib\n",
        "import matplotlib.pyplot as plt\n",
        "import numpy as np\n",
        "from colabgymrender.recorder import Recorder\n",
        "from google.colab import drive\n",
        "from gym.wrappers import Monitor\n",
        "from IPython import display as ipythondisplay\n",
        "from IPython.display import HTML\n",
        "from pyvirtualdisplay import Display"
      ],
      "execution_count": 2,
      "outputs": [
        {
          "output_type": "stream",
          "text": [
            "Imageio: 'ffmpeg-linux64-v3.3.1' was not found on your computer; downloading it now.\n",
            "Try 1. Download from https://github.com/imageio/imageio-binaries/raw/master/ffmpeg/ffmpeg-linux64-v3.3.1 (43.8 MB)\n",
            "Downloading: 8192/45929032 bytes (0.0%)\b\b\b\b\b\b\b\b\b\b\b\b\b\b\b\b\b\b\b\b\b\b\b\b\b\b532480/45929032 bytes (1.2%)\b\b\b\b\b\b\b\b\b\b\b\b\b\b\b\b\b\b\b\b\b\b\b\b\b\b\b\b1630208/45929032 bytes (3.5%)\b\b\b\b\b\b\b\b\b\b\b\b\b\b\b\b\b\b\b\b\b\b\b\b\b\b\b\b\b2940928/45929032 bytes (6.4%)\b\b\b\b\b\b\b\b\b\b\b\b\b\b\b\b\b\b\b\b\b\b\b\b\b\b\b\b\b4530176/45929032 bytes (9.9%)\b\b\b\b\b\b\b\b\b\b\b\b\b\b\b\b\b\b\b\b\b\b\b\b\b\b\b\b\b6397952/45929032 bytes (13.9%)\b\b\b\b\b\b\b\b\b\b\b\b\b\b\b\b\b\b\b\b\b\b\b\b\b\b\b\b\b\b8675328/45929032 bytes (18.9%)\b\b\b\b\b\b\b\b\b\b\b\b\b\b\b\b\b\b\b\b\b\b\b\b\b\b\b\b\b\b11452416/45929032 bytes (24.9%)\b\b\b\b\b\b\b\b\b\b\b\b\b\b\b\b\b\b\b\b\b\b\b\b\b\b\b\b\b\b\b14434304/45929032 bytes (31.4%)\b\b\b\b\b\b\b\b\b\b\b\b\b\b\b\b\b\b\b\b\b\b\b\b\b\b\b\b\b\b\b17735680/45929032 bytes (38.6%)\b\b\b\b\b\b\b\b\b\b\b\b\b\b\b\b\b\b\b\b\b\b\b\b\b\b\b\b\b\b\b20889600/45929032 bytes (45.5%)\b\b\b\b\b\b\b\b\b\b\b\b\b\b\b\b\b\b\b\b\b\b\b\b\b\b\b\b\b\b\b24297472/45929032 bytes (52.9%)\b\b\b\b\b\b\b\b\b\b\b\b\b\b\b\b\b\b\b\b\b\b\b\b\b\b\b\b\b\b\b27541504/45929032 bytes (60.0%)\b\b\b\b\b\b\b\b\b\b\b\b\b\b\b\b\b\b\b\b\b\b\b\b\b\b\b\b\b\b\b30621696/45929032 bytes (66.7%)\b\b\b\b\b\b\b\b\b\b\b\b\b\b\b\b\b\b\b\b\b\b\b\b\b\b\b\b\b\b\b33759232/45929032 bytes (73.5%)\b\b\b\b\b\b\b\b\b\b\b\b\b\b\b\b\b\b\b\b\b\b\b\b\b\b\b\b\b\b\b37208064/45929032 bytes (81.0%)\b\b\b\b\b\b\b\b\b\b\b\b\b\b\b\b\b\b\b\b\b\b\b\b\b\b\b\b\b\b\b40476672/45929032 bytes (88.1%)\b\b\b\b\b\b\b\b\b\b\b\b\b\b\b\b\b\b\b\b\b\b\b\b\b\b\b\b\b\b\b43761664/45929032 bytes (95.3%)\b\b\b\b\b\b\b\b\b\b\b\b\b\b\b\b\b\b\b\b\b\b\b\b\b\b\b\b\b\b\b45929032/45929032 bytes (100.0%)\n",
            "  Done\n",
            "File saved as /root/.imageio/ffmpeg/ffmpeg-linux64-v3.3.1.\n"
          ],
          "name": "stdout"
        }
      ]
    },
    {
      "cell_type": "code",
      "metadata": {
        "id": "MFDD54_Afgs4",
        "colab": {
          "base_uri": "https://localhost:8080/"
        },
        "outputId": "557d08c6-00e3-4457-ee37-8a7e052490e0"
      },
      "source": [
        "# Mount your Google Drive. By doing so, you can store any output, models, videos, and images persistently.\n",
        "drive.mount('/content/gdrive')"
      ],
      "execution_count": 3,
      "outputs": [
        {
          "output_type": "stream",
          "text": [
            "Mounted at /content/gdrive\n"
          ],
          "name": "stdout"
        }
      ]
    },
    {
      "cell_type": "code",
      "metadata": {
        "id": "lJeiCQFRgnSj"
      },
      "source": [
        "# Create a directory to store the data for this lab. Feel free to change this.\n",
        "data_path = Path('/content/gdrive/My Drive/Colab Notebooks/HU_RL/part1')\n",
        "data_path.mkdir(parents=True, exist_ok=True)\n",
        "video_path = data_path / 'video'"
      ],
      "execution_count": 4,
      "outputs": []
    },
    {
      "cell_type": "code",
      "metadata": {
        "id": "rU2ZsnBEelqW"
      },
      "source": [
        "# Define helper functions to visually show what the models are doing.\n",
        "%matplotlib inline\n",
        "\n",
        "gym.logger.set_level(gym.logger.ERROR)\n",
        "\n",
        "display = Display(visible=0, size=(1400, 900))\n",
        "display.start()\n",
        "\n",
        "def show_video():\n",
        "    # Display the stored video file\n",
        "    # Credits: https://star-ai.github.io/Rendering-OpenAi-Gym-in-Colaboratory/\n",
        "    mp4list = list(data_path.glob('video/*.mp4'))\n",
        "    if len(mp4list) > 0:\n",
        "        mp4 = mp4list[-1]\n",
        "        video = io.open(mp4, 'r+b').read()\n",
        "        encoded = base64.b64encode(video)\n",
        "        ipythondisplay.display(HTML(data='''<video alt=\"test\" autoplay \n",
        "                loop controls style=\"height: 400px;\">\n",
        "                <source src=\"data:video/mp4;base64,{0}\" type=\"video/mp4\" />\n",
        "            </video>'''.format(encoded.decode('ascii'))))\n",
        "    else: \n",
        "        print('Could not find video')\n",
        "\n",
        "\n",
        "def record_episode(idx):\n",
        "    # This determines which episodes to record.\n",
        "    # Since the video rendering in the OpenAI Gym is a bit buggy, we simply override it and decide\n",
        "    # whether or not to render inside of our training loop.\n",
        "    return True\n",
        "\n",
        "    \n",
        "def video_env(env):\n",
        "    # Wraps the environment to write its output to a video file\n",
        "    env = Monitor(env, video_path, video_callable=record_episode, force=True)\n",
        "    return env\n"
      ],
      "execution_count": 5,
      "outputs": []
    },
    {
      "cell_type": "markdown",
      "metadata": {
        "id": "ShMPjUFXiwli"
      },
      "source": [
        "# Test the environment"
      ]
    },
    {
      "cell_type": "code",
      "metadata": {
        "id": "u3hAfAGhi4KK",
        "colab": {
          "base_uri": "https://localhost:8080/",
          "height": 421
        },
        "outputId": "21a6b67e-5c11-43ae-8e45-165307df003c"
      },
      "source": [
        "\"\"\"We will use a basic OpenAI Gym examle: CartPole-v0.\n",
        "In this example, we will try to balance a pole on a cart.\n",
        "This is similar to kids (and.. grown-ups) trying to balance sticks on their hands.\n",
        "\n",
        "Check out the OpenAI Gym documentation to learn more: https://gym.openai.com/docs/\"\"\"\n",
        "\n",
        "# Create the desired environment\n",
        "env = gym.make(\"CartPole-v0\")\n",
        "\n",
        "# Wrap the environment, to make sure we get to see a fancy video\n",
        "env = video_env(env)\n",
        "\n",
        "# Before you can use a Gym environment, it needs to be reset.\n",
        "state = env.reset()\n",
        "\n",
        "# Perform random actions untill we drop the stick. Just as an example.\n",
        "done = False\n",
        "while not done:\n",
        "    env.render()\n",
        "    # The action_space contains all possible actions we can take.\n",
        "    random_action = env.action_space.sample() \n",
        "    # After each action, we end up in a new state and receive a reward.\n",
        "    # When we drop the pole (more than 12 degrees), or balance it long enough (200 steps),\n",
        "    # or drive off the screen, done is set to True.\n",
        "    state, reward, done, info = env.step(random_action)\n",
        "    break\n",
        "# Show the results!\n",
        "env.close()\n",
        "show_video()"
      ],
      "execution_count": 6,
      "outputs": [
        {
          "output_type": "display_data",
          "data": {
            "text/html": [
              "<video alt=\"test\" autoplay \n",
              "                loop controls style=\"height: 400px;\">\n",
              "                <source src=\"data:video/mp4;base64,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\" type=\"video/mp4\" />\n",
              "            </video>"
            ],
            "text/plain": [
              "<IPython.core.display.HTML object>"
            ]
          },
          "metadata": {
            "tags": []
          }
        }
      ]
    },
    {
      "cell_type": "code",
      "metadata": {
        "id": "i-O3zaP6q4-E",
        "colab": {
          "base_uri": "https://localhost:8080/"
        },
        "outputId": "f1f42070-2c92-489c-8c00-249dcd48b50d"
      },
      "source": [
        "# Neat, it did something (randomly)! \n",
        "\n",
        "# In order to train the system, we will try to predict the reward a certain actions yields given the state of the system.\n",
        "# But what is the state anyway?\n",
        "\n",
        "# In this environment, the state represents the cart's position and velocity, and the pole's angle and velocity.\n",
        "\n",
        "# Let's check out the current state\n",
        "print(f'Cart position: {state[0]} (range: [-4.8, 4.8])')\n",
        "print(f'Cart velocity: {state[1]} (range: [-inf, inf])')\n",
        "print(f'Pole angle: {state[2]} (range: [-0.418, 0.418])')\n",
        "print(f'Pole velocity: {state[3]} (range [-inf, inf])')\n",
        "\n",
        "# You can find out the minimum and maximum possible observation values using:\n",
        "print(f'Low observation space:', env.observation_space.low)\n",
        "print(f'High observation space:', env.observation_space.high)"
      ],
      "execution_count": 7,
      "outputs": [
        {
          "output_type": "stream",
          "text": [
            "Cart position: 0.005880129578607302 (range: [-4.8, 4.8])\n",
            "Cart velocity: -0.21530446554717803 (range: [-inf, inf])\n",
            "Pole angle: -0.014180207275466405 (range: [-0.418, 0.418])\n",
            "Pole velocity: 0.3266362077717006 (range [-inf, inf])\n",
            "Low observation space: [-4.8000002e+00 -3.4028235e+38 -4.1887903e-01 -3.4028235e+38]\n",
            "High observation space: [4.8000002e+00 3.4028235e+38 4.1887903e-01 3.4028235e+38]\n"
          ],
          "name": "stdout"
        }
      ]
    },
    {
      "cell_type": "markdown",
      "metadata": {
        "id": "nhQlBt2hUAQ2"
      },
      "source": [
        "# Implement Q-Learning"
      ]
    },
    {
      "cell_type": "markdown",
      "metadata": {
        "id": "HFsyJOo5GrZe"
      },
      "source": [
        "## Task\n",
        "Implement Q-Learning and find suitable parameters to reach a 200 reward."
      ]
    },
    {
      "cell_type": "code",
      "metadata": {
        "id": "eDvyHdRyRtdq"
      },
      "source": [
        "# Define parameters - Fill in the dots\n",
        "\n",
        "num_episodes = 10000\n",
        "num_episodes_between_status_update = 500\n",
        "num_episodes_between_videos = 5000\n",
        "\n",
        "learning_rate = 0.05         # also known as: alpha\n",
        "discount = 0.95              # also known as: gamma\n",
        "epsilon = 0.5\n",
        "\n",
        "# Epsilon decay\n",
        "# facto to be multiplied with epsilon for every percentage amount of episodes\n",
        "# so after 100 of the 10000 episodes, epsilon will drop by epsilon*epsilon_factor\n",
        "epsilon_factor = 0.97\n",
        "pass    # Optionally, add parameters for epsilon decay here\n",
        "\n",
        "# Discretization\n",
        "pass    # You can add parameters to discretize states here"
      ],
      "execution_count": 8,
      "outputs": []
    },
    {
      "cell_type": "code",
      "metadata": {
        "id": "T0S8rYCWT15s"
      },
      "source": [
        "## Q-Table creation\n",
        "\n",
        "# As seen before, the state consists of 4 floating point values.\n",
        "# It makes sense to discretize these values (read: place them in buckets), to reduce the state space and therefore the Q-table size\n",
        "state_shape = [20,20,20,20]      # For instance: [4, 4, 6, 6], or [10] * 4, or [200, 200, 100, 100]\n",
        "\n",
        "# Define the initial Q table as a random uniform distribution\n",
        "q_table = np.random.uniform(low=-2, high=0, size=(state_shape + [env.action_space.n]))\n",
        "\n",
        "#print('Initial Q table:', q_table)"
      ],
      "execution_count": 9,
      "outputs": []
    },
    {
      "cell_type": "markdown",
      "metadata": {
        "id": "-4Cp8cNtUcDf"
      },
      "source": [
        "# Train\n"
      ]
    },
    {
      "cell_type": "code",
      "metadata": {
        "id": "9ohvy7LVDTtS"
      },
      "source": [
        "# Functions\n",
        "\n",
        "# def make_bin(value, min_x, max_x, n_bins):\n",
        "# \t  bin_size = (max_x - min_x) / n_bins\n",
        "# \t  value = (value - min_x) // bin_size\n",
        "# \t  return value\n",
        "\n",
        "# def discretize_state(state):\n",
        "#     # A Q-table cannot practically handle infinite states, so limit the state space by\n",
        "#     # discretizing the state into buckets.\n",
        "#     bins  = [np.linspace(-3,10,state_shape[0]),\n",
        "#              np.linspace(-3,10,state_shape[1]),\n",
        "#              np.linspace(-3,10,state_shape[2]),\n",
        "#              np.linspace(-3,10,state_shape[3])]\n",
        "#     discrete_state = []\n",
        "#     for i in range(len(state)):\n",
        "#         discrete_state.append(np.digitize(state[i],bins[i]) - 1)\n",
        "#     discrete_state = np.array(discrete_state)\n",
        "#     # print(\"other method\",discrete_state)\n",
        "\n",
        "#     # max_x_list = [4,4,4.1,4]\n",
        "#     # min_x_list = [-4,-4,-4.1,-4]\n",
        "#     # discrete_state = np.array([make_bin(state[i],min_x_list[i],max_x_list[i],state_shape[i]) for i in range(len(state_shape))])\n",
        "#     # print(\"my method\",discrete_state)\n",
        "#     return tuple(discrete_state.astype(np.int))\n",
        "\n",
        "bins = [np.linspace(-4.8,4.8,state_shape[0]),\n",
        "        np.linspace(-4,4,state_shape[1]),\n",
        "        np.linspace(-0.418,0.418,state_shape[2]),\n",
        "        np.linspace(-4,4,state_shape[3])]\n",
        "\n",
        "def discretize_state(state):\n",
        "    # A Q-table cannot practically handle infinite states, so limit the state space by\n",
        "    # discretizing the state into buckets.\n",
        "    discrete_state = []\n",
        "    for i in range(len(state)):\n",
        "       discrete_state.append(np.digitize(state[i],bins[i]) - 1)\n",
        "    discrete_state = np.array(discrete_state)\n",
        "    return tuple(discrete_state.astype(np.int))\n",
        "\n",
        "def take_action(discrete_state, epsilon):\n",
        "    # Take an action to either explore or exploit.\n",
        "    # epsilon defines ratio exploration/exploitation\n",
        "    if epsilon>np.random.random():\n",
        "      # explore\n",
        "      action = env.action_space.sample()\n",
        "    else:\n",
        "      # exploit: get action with highest q value\n",
        "      #q_values = get_q_values(discrete_state)\n",
        "      #action = q_values.index(max(q_values))\n",
        "      action = np.argmax(q_table[discrete_state])\n",
        "    return action\n",
        "\n",
        "def estimated_max_for_next_state(discrete_state):\n",
        "    # What's the best expected Q-value for the next state?\n",
        "    estimated_max = max(q_table[discrete_state])\n",
        "    return estimated_max\n",
        "\n",
        "def new_q_value(discrete_state, action, max_future_q):\n",
        "    # Calculate the new Q-value\n",
        "    current_q = q_table[discrete_state][action]\n",
        "    new_q = current_q + learning_rate * (reward + discount * max_future_q - current_q)\n",
        "    return new_q\n",
        "\n",
        "def decayed_epsilon(epsilon, episode):\n",
        "    # Optionally, decay the epsilon value\n",
        "    if episode%(num_episodes/100)==0:\n",
        "      epsilon = epsilon * epsilon_factor\n",
        "    return epsilon\n",
        "    #return epsilon\n",
        "\n",
        "def get_q_values(discrete_state):\n",
        "    # Get q values for all possible actions\n",
        "    return q_table"
      ],
      "execution_count": 10,
      "outputs": []
    },
    {
      "cell_type": "code",
      "metadata": {
        "id": "iMUc3G164cA7",
        "colab": {
          "base_uri": "https://localhost:8080/",
          "height": 941
        },
        "outputId": "2eba54cb-db9e-4ae2-df0e-137bd4d76b73"
      },
      "source": [
        "# Time to train the system\n",
        "\n",
        "for episode in range(num_episodes):\n",
        "    state = env.reset() # Don't forget to reset the environment between episodes\n",
        "    current_state_disc = discretize_state(state)\n",
        "\n",
        "    reward_sum = 0\n",
        "    done = False\n",
        "    while not done:\n",
        "        if (episode + 1) % num_episodes_between_videos == 0:\n",
        "            env.render()\n",
        "\n",
        "        # Take an action by exploration or exploitation\n",
        "        action = take_action(current_state_disc, epsilon)\n",
        "        new_state, reward, done, info = env.step(action)\n",
        "        new_state_disc = discretize_state(new_state)\n",
        "\n",
        "        # Calculate the total reward\n",
        "        reward_sum += reward\n",
        "\n",
        "        if not done:\n",
        "            # Retrieve the maximum estimated value for the next state\n",
        "            max_future_q = estimated_max_for_next_state(new_state_disc)\n",
        "\n",
        "            # Calculate the new value (note: Bellman equation)\n",
        "            new_q = new_q_value(current_state_disc, action, max_future_q)\n",
        "            q_table[current_state_disc + (action,)] = new_q\n",
        "        else:\n",
        "            # Render the video\n",
        "            if (episode + 1) % num_episodes_between_status_update == 0:\n",
        "                env.render()\n",
        "                print(f'Total reward at episode {episode + 1}: {reward_sum}')\n",
        "\n",
        "        # Prepare for the next loop\n",
        "        current_state_disc = new_state_disc\n",
        "        \n",
        "\n",
        "    # Decay epsilon\n",
        "    epsilon = decayed_epsilon(epsilon, episode)\n",
        "    if episode%1000==0:\n",
        "      print(epsilon)\n",
        "\n",
        "env.close()\n",
        "show_video()"
      ],
      "execution_count": null,
      "outputs": [
        {
          "output_type": "stream",
          "text": [
            "0.485\n"
          ],
          "name": "stdout"
        },
        {
          "output_type": "execute_result",
          "data": {
            "text/plain": [
              "True"
            ]
          },
          "metadata": {
            "tags": []
          },
          "execution_count": 12
        },
        {
          "output_type": "stream",
          "text": [
            "Total reward at episode 500: 19.0\n"
          ],
          "name": "stdout"
        },
        {
          "output_type": "execute_result",
          "data": {
            "text/plain": [
              "True"
            ]
          },
          "metadata": {
            "tags": []
          },
          "execution_count": 12
        },
        {
          "output_type": "stream",
          "text": [
            "Total reward at episode 1000: 91.0\n",
            "0.3576507015440401\n"
          ],
          "name": "stdout"
        },
        {
          "output_type": "execute_result",
          "data": {
            "text/plain": [
              "True"
            ]
          },
          "metadata": {
            "tags": []
          },
          "execution_count": 12
        },
        {
          "output_type": "stream",
          "text": [
            "Total reward at episode 1500: 66.0\n"
          ],
          "name": "stdout"
        },
        {
          "output_type": "execute_result",
          "data": {
            "text/plain": [
              "True"
            ]
          },
          "metadata": {
            "tags": []
          },
          "execution_count": 12
        },
        {
          "output_type": "stream",
          "text": [
            "Total reward at episode 2000: 27.0\n",
            "0.26374025631947234\n"
          ],
          "name": "stdout"
        },
        {
          "output_type": "execute_result",
          "data": {
            "text/plain": [
              "True"
            ]
          },
          "metadata": {
            "tags": []
          },
          "execution_count": 12
        },
        {
          "output_type": "stream",
          "text": [
            "Total reward at episode 2500: 108.0\n"
          ],
          "name": "stdout"
        },
        {
          "output_type": "execute_result",
          "data": {
            "text/plain": [
              "True"
            ]
          },
          "metadata": {
            "tags": []
          },
          "execution_count": 12
        },
        {
          "output_type": "stream",
          "text": [
            "Total reward at episode 3000: 66.0\n",
            "0.19448842824343143\n"
          ],
          "name": "stdout"
        },
        {
          "output_type": "execute_result",
          "data": {
            "text/plain": [
              "True"
            ]
          },
          "metadata": {
            "tags": []
          },
          "execution_count": 12
        },
        {
          "output_type": "stream",
          "text": [
            "Total reward at episode 3500: 113.0\n"
          ],
          "name": "stdout"
        },
        {
          "output_type": "execute_result",
          "data": {
            "text/plain": [
              "True"
            ]
          },
          "metadata": {
            "tags": []
          },
          "execution_count": 12
        },
        {
          "output_type": "stream",
          "text": [
            "Total reward at episode 4000: 200.0\n",
            "0.1434204593885793\n"
          ],
          "name": "stdout"
        },
        {
          "output_type": "execute_result",
          "data": {
            "text/plain": [
              "True"
            ]
          },
          "metadata": {
            "tags": []
          },
          "execution_count": 12
        },
        {
          "output_type": "stream",
          "text": [
            "Total reward at episode 4500: 130.0\n"
          ],
          "name": "stdout"
        },
        {
          "output_type": "execute_result",
          "data": {
            "text/plain": [
              "True"
            ]
          },
          "metadata": {
            "tags": []
          },
          "execution_count": 12
        },
        {
          "output_type": "execute_result",
          "data": {
            "text/plain": [
              "True"
            ]
          },
          "metadata": {
            "tags": []
          },
          "execution_count": 12
        },
        {
          "output_type": "execute_result",
          "data": {
            "text/plain": [
              "True"
            ]
          },
          "metadata": {
            "tags": []
          },
          "execution_count": 12
        },
        {
          "output_type": "execute_result",
          "data": {
            "text/plain": [
              "True"
            ]
          },
          "metadata": {
            "tags": []
          },
          "execution_count": 12
        },
        {
          "output_type": "execute_result",
          "data": {
            "text/plain": [
              "True"
            ]
          },
          "metadata": {
            "tags": []
          },
          "execution_count": 12
        },
        {
          "output_type": "execute_result",
          "data": {
            "text/plain": [
              "True"
            ]
          },
          "metadata": {
            "tags": []
          },
          "execution_count": 12
        },
        {
          "output_type": "execute_result",
          "data": {
            "text/plain": [
              "True"
            ]
          },
          "metadata": {
            "tags": []
          },
          "execution_count": 12
        },
        {
          "output_type": "execute_result",
          "data": {
            "text/plain": [
              "True"
            ]
          },
          "metadata": {
            "tags": []
          },
          "execution_count": 12
        },
        {
          "output_type": "execute_result",
          "data": {
            "text/plain": [
              "True"
            ]
          },
          "metadata": {
            "tags": []
          },
          "execution_count": 12
        },
        {
          "output_type": "execute_result",
          "data": {
            "text/plain": [
              "True"
            ]
          },
          "metadata": {
            "tags": []
          },
          "execution_count": 12
        },
        {
          "output_type": "execute_result",
          "data": {
            "text/plain": [
              "True"
            ]
          },
          "metadata": {
            "tags": []
          },
          "execution_count": 12
        },
        {
          "output_type": "execute_result",
          "data": {
            "text/plain": [
              "True"
            ]
          },
          "metadata": {
            "tags": []
          },
          "execution_count": 12
        },
        {
          "output_type": "execute_result",
          "data": {
            "text/plain": [
              "True"
            ]
          },
          "metadata": {
            "tags": []
          },
          "execution_count": 12
        },
        {
          "output_type": "execute_result",
          "data": {
            "text/plain": [
              "True"
            ]
          },
          "metadata": {
            "tags": []
          },
          "execution_count": 12
        },
        {
          "output_type": "execute_result",
          "data": {
            "text/plain": [
              "True"
            ]
          },
          "metadata": {
            "tags": []
          },
          "execution_count": 12
        },
        {
          "output_type": "execute_result",
          "data": {
            "text/plain": [
              "True"
            ]
          },
          "metadata": {
            "tags": []
          },
          "execution_count": 12
        },
        {
          "output_type": "execute_result",
          "data": {
            "text/plain": [
              "True"
            ]
          },
          "metadata": {
            "tags": []
          },
          "execution_count": 12
        },
        {
          "output_type": "execute_result",
          "data": {
            "text/plain": [
              "True"
            ]
          },
          "metadata": {
            "tags": []
          },
          "execution_count": 12
        },
        {
          "output_type": "execute_result",
          "data": {
            "text/plain": [
              "True"
            ]
          },
          "metadata": {
            "tags": []
          },
          "execution_count": 12
        },
        {
          "output_type": "execute_result",
          "data": {
            "text/plain": [
              "True"
            ]
          },
          "metadata": {
            "tags": []
          },
          "execution_count": 12
        },
        {
          "output_type": "execute_result",
          "data": {
            "text/plain": [
              "True"
            ]
          },
          "metadata": {
            "tags": []
          },
          "execution_count": 12
        },
        {
          "output_type": "execute_result",
          "data": {
            "text/plain": [
              "True"
            ]
          },
          "metadata": {
            "tags": []
          },
          "execution_count": 12
        },
        {
          "output_type": "execute_result",
          "data": {
            "text/plain": [
              "True"
            ]
          },
          "metadata": {
            "tags": []
          },
          "execution_count": 12
        },
        {
          "output_type": "execute_result",
          "data": {
            "text/plain": [
              "True"
            ]
          },
          "metadata": {
            "tags": []
          },
          "execution_count": 12
        },
        {
          "output_type": "execute_result",
          "data": {
            "text/plain": [
              "True"
            ]
          },
          "metadata": {
            "tags": []
          },
          "execution_count": 12
        },
        {
          "output_type": "execute_result",
          "data": {
            "text/plain": [
              "True"
            ]
          },
          "metadata": {
            "tags": []
          },
          "execution_count": 12
        },
        {
          "output_type": "execute_result",
          "data": {
            "text/plain": [
              "True"
            ]
          },
          "metadata": {
            "tags": []
          },
          "execution_count": 12
        },
        {
          "output_type": "execute_result",
          "data": {
            "text/plain": [
              "True"
            ]
          },
          "metadata": {
            "tags": []
          },
          "execution_count": 12
        },
        {
          "output_type": "execute_result",
          "data": {
            "text/plain": [
              "True"
            ]
          },
          "metadata": {
            "tags": []
          },
          "execution_count": 12
        },
        {
          "output_type": "execute_result",
          "data": {
            "text/plain": [
              "True"
            ]
          },
          "metadata": {
            "tags": []
          },
          "execution_count": 12
        },
        {
          "output_type": "execute_result",
          "data": {
            "text/plain": [
              "True"
            ]
          },
          "metadata": {
            "tags": []
          },
          "execution_count": 12
        },
        {
          "output_type": "execute_result",
          "data": {
            "text/plain": [
              "True"
            ]
          },
          "metadata": {
            "tags": []
          },
          "execution_count": 12
        },
        {
          "output_type": "execute_result",
          "data": {
            "text/plain": [
              "True"
            ]
          },
          "metadata": {
            "tags": []
          },
          "execution_count": 12
        },
        {
          "output_type": "execute_result",
          "data": {
            "text/plain": [
              "True"
            ]
          },
          "metadata": {
            "tags": []
          },
          "execution_count": 12
        },
        {
          "output_type": "execute_result",
          "data": {
            "text/plain": [
              "True"
            ]
          },
          "metadata": {
            "tags": []
          },
          "execution_count": 12
        },
        {
          "output_type": "execute_result",
          "data": {
            "text/plain": [
              "True"
            ]
          },
          "metadata": {
            "tags": []
          },
          "execution_count": 12
        },
        {
          "output_type": "execute_result",
          "data": {
            "text/plain": [
              "True"
            ]
          },
          "metadata": {
            "tags": []
          },
          "execution_count": 12
        },
        {
          "output_type": "execute_result",
          "data": {
            "text/plain": [
              "True"
            ]
          },
          "metadata": {
            "tags": []
          },
          "execution_count": 12
        },
        {
          "output_type": "execute_result",
          "data": {
            "text/plain": [
              "True"
            ]
          },
          "metadata": {
            "tags": []
          },
          "execution_count": 12
        },
        {
          "output_type": "execute_result",
          "data": {
            "text/plain": [
              "True"
            ]
          },
          "metadata": {
            "tags": []
          },
          "execution_count": 12
        },
        {
          "output_type": "execute_result",
          "data": {
            "text/plain": [
              "True"
            ]
          },
          "metadata": {
            "tags": []
          },
          "execution_count": 12
        },
        {
          "output_type": "execute_result",
          "data": {
            "text/plain": [
              "True"
            ]
          },
          "metadata": {
            "tags": []
          },
          "execution_count": 12
        },
        {
          "output_type": "execute_result",
          "data": {
            "text/plain": [
              "True"
            ]
          },
          "metadata": {
            "tags": []
          },
          "execution_count": 12
        },
        {
          "output_type": "execute_result",
          "data": {
            "text/plain": [
              "True"
            ]
          },
          "metadata": {
            "tags": []
          },
          "execution_count": 12
        },
        {
          "output_type": "execute_result",
          "data": {
            "text/plain": [
              "True"
            ]
          },
          "metadata": {
            "tags": []
          },
          "execution_count": 12
        },
        {
          "output_type": "execute_result",
          "data": {
            "text/plain": [
              "True"
            ]
          },
          "metadata": {
            "tags": []
          },
          "execution_count": 12
        },
        {
          "output_type": "execute_result",
          "data": {
            "text/plain": [
              "True"
            ]
          },
          "metadata": {
            "tags": []
          },
          "execution_count": 12
        },
        {
          "output_type": "execute_result",
          "data": {
            "text/plain": [
              "True"
            ]
          },
          "metadata": {
            "tags": []
          },
          "execution_count": 12
        },
        {
          "output_type": "execute_result",
          "data": {
            "text/plain": [
              "True"
            ]
          },
          "metadata": {
            "tags": []
          },
          "execution_count": 12
        },
        {
          "output_type": "execute_result",
          "data": {
            "text/plain": [
              "True"
            ]
          },
          "metadata": {
            "tags": []
          },
          "execution_count": 12
        },
        {
          "output_type": "execute_result",
          "data": {
            "text/plain": [
              "True"
            ]
          },
          "metadata": {
            "tags": []
          },
          "execution_count": 12
        },
        {
          "output_type": "execute_result",
          "data": {
            "text/plain": [
              "True"
            ]
          },
          "metadata": {
            "tags": []
          },
          "execution_count": 12
        },
        {
          "output_type": "execute_result",
          "data": {
            "text/plain": [
              "True"
            ]
          },
          "metadata": {
            "tags": []
          },
          "execution_count": 12
        },
        {
          "output_type": "execute_result",
          "data": {
            "text/plain": [
              "True"
            ]
          },
          "metadata": {
            "tags": []
          },
          "execution_count": 12
        },
        {
          "output_type": "execute_result",
          "data": {
            "text/plain": [
              "True"
            ]
          },
          "metadata": {
            "tags": []
          },
          "execution_count": 12
        },
        {
          "output_type": "execute_result",
          "data": {
            "text/plain": [
              "True"
            ]
          },
          "metadata": {
            "tags": []
          },
          "execution_count": 12
        },
        {
          "output_type": "execute_result",
          "data": {
            "text/plain": [
              "True"
            ]
          },
          "metadata": {
            "tags": []
          },
          "execution_count": 12
        },
        {
          "output_type": "execute_result",
          "data": {
            "text/plain": [
              "True"
            ]
          },
          "metadata": {
            "tags": []
          },
          "execution_count": 12
        },
        {
          "output_type": "execute_result",
          "data": {
            "text/plain": [
              "True"
            ]
          },
          "metadata": {
            "tags": []
          },
          "execution_count": 12
        },
        {
          "output_type": "execute_result",
          "data": {
            "text/plain": [
              "True"
            ]
          },
          "metadata": {
            "tags": []
          },
          "execution_count": 12
        },
        {
          "output_type": "execute_result",
          "data": {
            "text/plain": [
              "True"
            ]
          },
          "metadata": {
            "tags": []
          },
          "execution_count": 12
        },
        {
          "output_type": "execute_result",
          "data": {
            "text/plain": [
              "True"
            ]
          },
          "metadata": {
            "tags": []
          },
          "execution_count": 12
        },
        {
          "output_type": "execute_result",
          "data": {
            "text/plain": [
              "True"
            ]
          },
          "metadata": {
            "tags": []
          },
          "execution_count": 12
        },
        {
          "output_type": "execute_result",
          "data": {
            "text/plain": [
              "True"
            ]
          },
          "metadata": {
            "tags": []
          },
          "execution_count": 12
        },
        {
          "output_type": "execute_result",
          "data": {
            "text/plain": [
              "True"
            ]
          },
          "metadata": {
            "tags": []
          },
          "execution_count": 12
        },
        {
          "output_type": "execute_result",
          "data": {
            "text/plain": [
              "True"
            ]
          },
          "metadata": {
            "tags": []
          },
          "execution_count": 12
        },
        {
          "output_type": "execute_result",
          "data": {
            "text/plain": [
              "True"
            ]
          },
          "metadata": {
            "tags": []
          },
          "execution_count": 12
        },
        {
          "output_type": "execute_result",
          "data": {
            "text/plain": [
              "True"
            ]
          },
          "metadata": {
            "tags": []
          },
          "execution_count": 12
        },
        {
          "output_type": "execute_result",
          "data": {
            "text/plain": [
              "True"
            ]
          },
          "metadata": {
            "tags": []
          },
          "execution_count": 12
        },
        {
          "output_type": "execute_result",
          "data": {
            "text/plain": [
              "True"
            ]
          },
          "metadata": {
            "tags": []
          },
          "execution_count": 12
        },
        {
          "output_type": "execute_result",
          "data": {
            "text/plain": [
              "True"
            ]
          },
          "metadata": {
            "tags": []
          },
          "execution_count": 12
        },
        {
          "output_type": "execute_result",
          "data": {
            "text/plain": [
              "True"
            ]
          },
          "metadata": {
            "tags": []
          },
          "execution_count": 12
        },
        {
          "output_type": "execute_result",
          "data": {
            "text/plain": [
              "True"
            ]
          },
          "metadata": {
            "tags": []
          },
          "execution_count": 12
        },
        {
          "output_type": "execute_result",
          "data": {
            "text/plain": [
              "True"
            ]
          },
          "metadata": {
            "tags": []
          },
          "execution_count": 12
        },
        {
          "output_type": "execute_result",
          "data": {
            "text/plain": [
              "True"
            ]
          },
          "metadata": {
            "tags": []
          },
          "execution_count": 12
        },
        {
          "output_type": "execute_result",
          "data": {
            "text/plain": [
              "True"
            ]
          },
          "metadata": {
            "tags": []
          },
          "execution_count": 12
        },
        {
          "output_type": "execute_result",
          "data": {
            "text/plain": [
              "True"
            ]
          },
          "metadata": {
            "tags": []
          },
          "execution_count": 12
        },
        {
          "output_type": "execute_result",
          "data": {
            "text/plain": [
              "True"
            ]
          },
          "metadata": {
            "tags": []
          },
          "execution_count": 12
        },
        {
          "output_type": "execute_result",
          "data": {
            "text/plain": [
              "True"
            ]
          },
          "metadata": {
            "tags": []
          },
          "execution_count": 12
        },
        {
          "output_type": "execute_result",
          "data": {
            "text/plain": [
              "True"
            ]
          },
          "metadata": {
            "tags": []
          },
          "execution_count": 12
        },
        {
          "output_type": "execute_result",
          "data": {
            "text/plain": [
              "True"
            ]
          },
          "metadata": {
            "tags": []
          },
          "execution_count": 12
        },
        {
          "output_type": "execute_result",
          "data": {
            "text/plain": [
              "True"
            ]
          },
          "metadata": {
            "tags": []
          },
          "execution_count": 12
        },
        {
          "output_type": "execute_result",
          "data": {
            "text/plain": [
              "True"
            ]
          },
          "metadata": {
            "tags": []
          },
          "execution_count": 12
        },
        {
          "output_type": "execute_result",
          "data": {
            "text/plain": [
              "True"
            ]
          },
          "metadata": {
            "tags": []
          },
          "execution_count": 12
        },
        {
          "output_type": "execute_result",
          "data": {
            "text/plain": [
              "True"
            ]
          },
          "metadata": {
            "tags": []
          },
          "execution_count": 12
        },
        {
          "output_type": "execute_result",
          "data": {
            "text/plain": [
              "True"
            ]
          },
          "metadata": {
            "tags": []
          },
          "execution_count": 12
        },
        {
          "output_type": "execute_result",
          "data": {
            "text/plain": [
              "True"
            ]
          },
          "metadata": {
            "tags": []
          },
          "execution_count": 12
        },
        {
          "output_type": "execute_result",
          "data": {
            "text/plain": [
              "True"
            ]
          },
          "metadata": {
            "tags": []
          },
          "execution_count": 12
        },
        {
          "output_type": "execute_result",
          "data": {
            "text/plain": [
              "True"
            ]
          },
          "metadata": {
            "tags": []
          },
          "execution_count": 12
        },
        {
          "output_type": "execute_result",
          "data": {
            "text/plain": [
              "True"
            ]
          },
          "metadata": {
            "tags": []
          },
          "execution_count": 12
        },
        {
          "output_type": "execute_result",
          "data": {
            "text/plain": [
              "True"
            ]
          },
          "metadata": {
            "tags": []
          },
          "execution_count": 12
        },
        {
          "output_type": "execute_result",
          "data": {
            "text/plain": [
              "True"
            ]
          },
          "metadata": {
            "tags": []
          },
          "execution_count": 12
        },
        {
          "output_type": "execute_result",
          "data": {
            "text/plain": [
              "True"
            ]
          },
          "metadata": {
            "tags": []
          },
          "execution_count": 12
        },
        {
          "output_type": "execute_result",
          "data": {
            "text/plain": [
              "True"
            ]
          },
          "metadata": {
            "tags": []
          },
          "execution_count": 12
        },
        {
          "output_type": "execute_result",
          "data": {
            "text/plain": [
              "True"
            ]
          },
          "metadata": {
            "tags": []
          },
          "execution_count": 12
        },
        {
          "output_type": "execute_result",
          "data": {
            "text/plain": [
              "True"
            ]
          },
          "metadata": {
            "tags": []
          },
          "execution_count": 12
        },
        {
          "output_type": "execute_result",
          "data": {
            "text/plain": [
              "True"
            ]
          },
          "metadata": {
            "tags": []
          },
          "execution_count": 12
        },
        {
          "output_type": "execute_result",
          "data": {
            "text/plain": [
              "True"
            ]
          },
          "metadata": {
            "tags": []
          },
          "execution_count": 12
        },
        {
          "output_type": "execute_result",
          "data": {
            "text/plain": [
              "True"
            ]
          },
          "metadata": {
            "tags": []
          },
          "execution_count": 12
        },
        {
          "output_type": "execute_result",
          "data": {
            "text/plain": [
              "True"
            ]
          },
          "metadata": {
            "tags": []
          },
          "execution_count": 12
        },
        {
          "output_type": "execute_result",
          "data": {
            "text/plain": [
              "True"
            ]
          },
          "metadata": {
            "tags": []
          },
          "execution_count": 12
        },
        {
          "output_type": "execute_result",
          "data": {
            "text/plain": [
              "True"
            ]
          },
          "metadata": {
            "tags": []
          },
          "execution_count": 12
        },
        {
          "output_type": "execute_result",
          "data": {
            "text/plain": [
              "True"
            ]
          },
          "metadata": {
            "tags": []
          },
          "execution_count": 12
        },
        {
          "output_type": "execute_result",
          "data": {
            "text/plain": [
              "True"
            ]
          },
          "metadata": {
            "tags": []
          },
          "execution_count": 12
        },
        {
          "output_type": "execute_result",
          "data": {
            "text/plain": [
              "True"
            ]
          },
          "metadata": {
            "tags": []
          },
          "execution_count": 12
        },
        {
          "output_type": "execute_result",
          "data": {
            "text/plain": [
              "True"
            ]
          },
          "metadata": {
            "tags": []
          },
          "execution_count": 12
        },
        {
          "output_type": "execute_result",
          "data": {
            "text/plain": [
              "True"
            ]
          },
          "metadata": {
            "tags": []
          },
          "execution_count": 12
        },
        {
          "output_type": "execute_result",
          "data": {
            "text/plain": [
              "True"
            ]
          },
          "metadata": {
            "tags": []
          },
          "execution_count": 12
        },
        {
          "output_type": "execute_result",
          "data": {
            "text/plain": [
              "True"
            ]
          },
          "metadata": {
            "tags": []
          },
          "execution_count": 12
        },
        {
          "output_type": "execute_result",
          "data": {
            "text/plain": [
              "True"
            ]
          },
          "metadata": {
            "tags": []
          },
          "execution_count": 12
        },
        {
          "output_type": "execute_result",
          "data": {
            "text/plain": [
              "True"
            ]
          },
          "metadata": {
            "tags": []
          },
          "execution_count": 12
        },
        {
          "output_type": "execute_result",
          "data": {
            "text/plain": [
              "True"
            ]
          },
          "metadata": {
            "tags": []
          },
          "execution_count": 12
        },
        {
          "output_type": "execute_result",
          "data": {
            "text/plain": [
              "True"
            ]
          },
          "metadata": {
            "tags": []
          },
          "execution_count": 12
        },
        {
          "output_type": "execute_result",
          "data": {
            "text/plain": [
              "True"
            ]
          },
          "metadata": {
            "tags": []
          },
          "execution_count": 12
        },
        {
          "output_type": "execute_result",
          "data": {
            "text/plain": [
              "True"
            ]
          },
          "metadata": {
            "tags": []
          },
          "execution_count": 12
        },
        {
          "output_type": "execute_result",
          "data": {
            "text/plain": [
              "True"
            ]
          },
          "metadata": {
            "tags": []
          },
          "execution_count": 12
        },
        {
          "output_type": "execute_result",
          "data": {
            "text/plain": [
              "True"
            ]
          },
          "metadata": {
            "tags": []
          },
          "execution_count": 12
        },
        {
          "output_type": "execute_result",
          "data": {
            "text/plain": [
              "True"
            ]
          },
          "metadata": {
            "tags": []
          },
          "execution_count": 12
        },
        {
          "output_type": "execute_result",
          "data": {
            "text/plain": [
              "True"
            ]
          },
          "metadata": {
            "tags": []
          },
          "execution_count": 12
        },
        {
          "output_type": "execute_result",
          "data": {
            "text/plain": [
              "True"
            ]
          },
          "metadata": {
            "tags": []
          },
          "execution_count": 12
        },
        {
          "output_type": "execute_result",
          "data": {
            "text/plain": [
              "True"
            ]
          },
          "metadata": {
            "tags": []
          },
          "execution_count": 12
        },
        {
          "output_type": "execute_result",
          "data": {
            "text/plain": [
              "True"
            ]
          },
          "metadata": {
            "tags": []
          },
          "execution_count": 12
        },
        {
          "output_type": "execute_result",
          "data": {
            "text/plain": [
              "True"
            ]
          },
          "metadata": {
            "tags": []
          },
          "execution_count": 12
        },
        {
          "output_type": "execute_result",
          "data": {
            "text/plain": [
              "True"
            ]
          },
          "metadata": {
            "tags": []
          },
          "execution_count": 12
        },
        {
          "output_type": "execute_result",
          "data": {
            "text/plain": [
              "True"
            ]
          },
          "metadata": {
            "tags": []
          },
          "execution_count": 12
        },
        {
          "output_type": "execute_result",
          "data": {
            "text/plain": [
              "True"
            ]
          },
          "metadata": {
            "tags": []
          },
          "execution_count": 12
        },
        {
          "output_type": "execute_result",
          "data": {
            "text/plain": [
              "True"
            ]
          },
          "metadata": {
            "tags": []
          },
          "execution_count": 12
        },
        {
          "output_type": "execute_result",
          "data": {
            "text/plain": [
              "True"
            ]
          },
          "metadata": {
            "tags": []
          },
          "execution_count": 12
        },
        {
          "output_type": "execute_result",
          "data": {
            "text/plain": [
              "True"
            ]
          },
          "metadata": {
            "tags": []
          },
          "execution_count": 12
        },
        {
          "output_type": "execute_result",
          "data": {
            "text/plain": [
              "True"
            ]
          },
          "metadata": {
            "tags": []
          },
          "execution_count": 12
        },
        {
          "output_type": "execute_result",
          "data": {
            "text/plain": [
              "True"
            ]
          },
          "metadata": {
            "tags": []
          },
          "execution_count": 12
        },
        {
          "output_type": "execute_result",
          "data": {
            "text/plain": [
              "True"
            ]
          },
          "metadata": {
            "tags": []
          },
          "execution_count": 12
        },
        {
          "output_type": "execute_result",
          "data": {
            "text/plain": [
              "True"
            ]
          },
          "metadata": {
            "tags": []
          },
          "execution_count": 12
        },
        {
          "output_type": "execute_result",
          "data": {
            "text/plain": [
              "True"
            ]
          },
          "metadata": {
            "tags": []
          },
          "execution_count": 12
        },
        {
          "output_type": "execute_result",
          "data": {
            "text/plain": [
              "True"
            ]
          },
          "metadata": {
            "tags": []
          },
          "execution_count": 12
        },
        {
          "output_type": "execute_result",
          "data": {
            "text/plain": [
              "True"
            ]
          },
          "metadata": {
            "tags": []
          },
          "execution_count": 12
        },
        {
          "output_type": "execute_result",
          "data": {
            "text/plain": [
              "True"
            ]
          },
          "metadata": {
            "tags": []
          },
          "execution_count": 12
        },
        {
          "output_type": "execute_result",
          "data": {
            "text/plain": [
              "True"
            ]
          },
          "metadata": {
            "tags": []
          },
          "execution_count": 12
        },
        {
          "output_type": "execute_result",
          "data": {
            "text/plain": [
              "True"
            ]
          },
          "metadata": {
            "tags": []
          },
          "execution_count": 12
        },
        {
          "output_type": "execute_result",
          "data": {
            "text/plain": [
              "True"
            ]
          },
          "metadata": {
            "tags": []
          },
          "execution_count": 12
        },
        {
          "output_type": "execute_result",
          "data": {
            "text/plain": [
              "True"
            ]
          },
          "metadata": {
            "tags": []
          },
          "execution_count": 12
        },
        {
          "output_type": "execute_result",
          "data": {
            "text/plain": [
              "True"
            ]
          },
          "metadata": {
            "tags": []
          },
          "execution_count": 12
        },
        {
          "output_type": "execute_result",
          "data": {
            "text/plain": [
              "True"
            ]
          },
          "metadata": {
            "tags": []
          },
          "execution_count": 12
        },
        {
          "output_type": "execute_result",
          "data": {
            "text/plain": [
              "True"
            ]
          },
          "metadata": {
            "tags": []
          },
          "execution_count": 12
        },
        {
          "output_type": "execute_result",
          "data": {
            "text/plain": [
              "True"
            ]
          },
          "metadata": {
            "tags": []
          },
          "execution_count": 12
        },
        {
          "output_type": "execute_result",
          "data": {
            "text/plain": [
              "True"
            ]
          },
          "metadata": {
            "tags": []
          },
          "execution_count": 12
        },
        {
          "output_type": "execute_result",
          "data": {
            "text/plain": [
              "True"
            ]
          },
          "metadata": {
            "tags": []
          },
          "execution_count": 12
        },
        {
          "output_type": "execute_result",
          "data": {
            "text/plain": [
              "True"
            ]
          },
          "metadata": {
            "tags": []
          },
          "execution_count": 12
        },
        {
          "output_type": "execute_result",
          "data": {
            "text/plain": [
              "True"
            ]
          },
          "metadata": {
            "tags": []
          },
          "execution_count": 12
        },
        {
          "output_type": "execute_result",
          "data": {
            "text/plain": [
              "True"
            ]
          },
          "metadata": {
            "tags": []
          },
          "execution_count": 12
        },
        {
          "output_type": "execute_result",
          "data": {
            "text/plain": [
              "True"
            ]
          },
          "metadata": {
            "tags": []
          },
          "execution_count": 12
        },
        {
          "output_type": "execute_result",
          "data": {
            "text/plain": [
              "True"
            ]
          },
          "metadata": {
            "tags": []
          },
          "execution_count": 12
        },
        {
          "output_type": "execute_result",
          "data": {
            "text/plain": [
              "True"
            ]
          },
          "metadata": {
            "tags": []
          },
          "execution_count": 12
        },
        {
          "output_type": "execute_result",
          "data": {
            "text/plain": [
              "True"
            ]
          },
          "metadata": {
            "tags": []
          },
          "execution_count": 12
        },
        {
          "output_type": "execute_result",
          "data": {
            "text/plain": [
              "True"
            ]
          },
          "metadata": {
            "tags": []
          },
          "execution_count": 12
        },
        {
          "output_type": "execute_result",
          "data": {
            "text/plain": [
              "True"
            ]
          },
          "metadata": {
            "tags": []
          },
          "execution_count": 12
        },
        {
          "output_type": "execute_result",
          "data": {
            "text/plain": [
              "True"
            ]
          },
          "metadata": {
            "tags": []
          },
          "execution_count": 12
        },
        {
          "output_type": "execute_result",
          "data": {
            "text/plain": [
              "True"
            ]
          },
          "metadata": {
            "tags": []
          },
          "execution_count": 12
        },
        {
          "output_type": "execute_result",
          "data": {
            "text/plain": [
              "True"
            ]
          },
          "metadata": {
            "tags": []
          },
          "execution_count": 12
        },
        {
          "output_type": "execute_result",
          "data": {
            "text/plain": [
              "True"
            ]
          },
          "metadata": {
            "tags": []
          },
          "execution_count": 12
        },
        {
          "output_type": "execute_result",
          "data": {
            "text/plain": [
              "True"
            ]
          },
          "metadata": {
            "tags": []
          },
          "execution_count": 12
        },
        {
          "output_type": "execute_result",
          "data": {
            "text/plain": [
              "True"
            ]
          },
          "metadata": {
            "tags": []
          },
          "execution_count": 12
        },
        {
          "output_type": "execute_result",
          "data": {
            "text/plain": [
              "True"
            ]
          },
          "metadata": {
            "tags": []
          },
          "execution_count": 12
        },
        {
          "output_type": "execute_result",
          "data": {
            "text/plain": [
              "True"
            ]
          },
          "metadata": {
            "tags": []
          },
          "execution_count": 12
        },
        {
          "output_type": "execute_result",
          "data": {
            "text/plain": [
              "True"
            ]
          },
          "metadata": {
            "tags": []
          },
          "execution_count": 12
        },
        {
          "output_type": "execute_result",
          "data": {
            "text/plain": [
              "True"
            ]
          },
          "metadata": {
            "tags": []
          },
          "execution_count": 12
        },
        {
          "output_type": "execute_result",
          "data": {
            "text/plain": [
              "True"
            ]
          },
          "metadata": {
            "tags": []
          },
          "execution_count": 12
        },
        {
          "output_type": "execute_result",
          "data": {
            "text/plain": [
              "True"
            ]
          },
          "metadata": {
            "tags": []
          },
          "execution_count": 12
        },
        {
          "output_type": "execute_result",
          "data": {
            "text/plain": [
              "True"
            ]
          },
          "metadata": {
            "tags": []
          },
          "execution_count": 12
        },
        {
          "output_type": "execute_result",
          "data": {
            "text/plain": [
              "True"
            ]
          },
          "metadata": {
            "tags": []
          },
          "execution_count": 12
        },
        {
          "output_type": "stream",
          "text": [
            "Total reward at episode 5000: 169.0\n",
            "0.1057617070434926\n"
          ],
          "name": "stdout"
        },
        {
          "output_type": "execute_result",
          "data": {
            "text/plain": [
              "True"
            ]
          },
          "metadata": {
            "tags": []
          },
          "execution_count": 12
        },
        {
          "output_type": "stream",
          "text": [
            "Total reward at episode 5500: 200.0\n"
          ],
          "name": "stdout"
        },
        {
          "output_type": "execute_result",
          "data": {
            "text/plain": [
              "True"
            ]
          },
          "metadata": {
            "tags": []
          },
          "execution_count": 12
        },
        {
          "output_type": "stream",
          "text": [
            "Total reward at episode 6000: 118.0\n",
            "0.0779912344754647\n"
          ],
          "name": "stdout"
        },
        {
          "output_type": "execute_result",
          "data": {
            "text/plain": [
              "True"
            ]
          },
          "metadata": {
            "tags": []
          },
          "execution_count": 12
        },
        {
          "output_type": "stream",
          "text": [
            "Total reward at episode 6500: 200.0\n"
          ],
          "name": "stdout"
        },
        {
          "output_type": "execute_result",
          "data": {
            "text/plain": [
              "True"
            ]
          },
          "metadata": {
            "tags": []
          },
          "execution_count": 12
        },
        {
          "output_type": "stream",
          "text": [
            "Total reward at episode 7000: 200.0\n",
            "0.05751261798852717\n"
          ],
          "name": "stdout"
        },
        {
          "output_type": "execute_result",
          "data": {
            "text/plain": [
              "True"
            ]
          },
          "metadata": {
            "tags": []
          },
          "execution_count": 12
        },
        {
          "output_type": "stream",
          "text": [
            "Total reward at episode 7500: 154.0\n"
          ],
          "name": "stdout"
        },
        {
          "output_type": "execute_result",
          "data": {
            "text/plain": [
              "True"
            ]
          },
          "metadata": {
            "tags": []
          },
          "execution_count": 12
        },
        {
          "output_type": "stream",
          "text": [
            "Total reward at episode 8000: 200.0\n",
            "0.042411192105631185\n"
          ],
          "name": "stdout"
        },
        {
          "output_type": "execute_result",
          "data": {
            "text/plain": [
              "True"
            ]
          },
          "metadata": {
            "tags": []
          },
          "execution_count": 12
        },
        {
          "output_type": "stream",
          "text": [
            "Total reward at episode 8500: 200.0\n"
          ],
          "name": "stdout"
        },
        {
          "output_type": "execute_result",
          "data": {
            "text/plain": [
              "True"
            ]
          },
          "metadata": {
            "tags": []
          },
          "execution_count": 12
        },
        {
          "output_type": "stream",
          "text": [
            "Total reward at episode 9000: 200.0\n",
            "0.031275036309068145\n"
          ],
          "name": "stdout"
        },
        {
          "output_type": "execute_result",
          "data": {
            "text/plain": [
              "True"
            ]
          },
          "metadata": {
            "tags": []
          },
          "execution_count": 12
        },
        {
          "output_type": "stream",
          "text": [
            "Total reward at episode 9500: 200.0\n"
          ],
          "name": "stdout"
        },
        {
          "output_type": "execute_result",
          "data": {
            "text/plain": [
              "True"
            ]
          },
          "metadata": {
            "tags": []
          },
          "execution_count": 12
        },
        {
          "output_type": "execute_result",
          "data": {
            "text/plain": [
              "True"
            ]
          },
          "metadata": {
            "tags": []
          },
          "execution_count": 12
        },
        {
          "output_type": "execute_result",
          "data": {
            "text/plain": [
              "True"
            ]
          },
          "metadata": {
            "tags": []
          },
          "execution_count": 12
        },
        {
          "output_type": "execute_result",
          "data": {
            "text/plain": [
              "True"
            ]
          },
          "metadata": {
            "tags": []
          },
          "execution_count": 12
        },
        {
          "output_type": "execute_result",
          "data": {
            "text/plain": [
              "True"
            ]
          },
          "metadata": {
            "tags": []
          },
          "execution_count": 12
        },
        {
          "output_type": "execute_result",
          "data": {
            "text/plain": [
              "True"
            ]
          },
          "metadata": {
            "tags": []
          },
          "execution_count": 12
        },
        {
          "output_type": "execute_result",
          "data": {
            "text/plain": [
              "True"
            ]
          },
          "metadata": {
            "tags": []
          },
          "execution_count": 12
        },
        {
          "output_type": "execute_result",
          "data": {
            "text/plain": [
              "True"
            ]
          },
          "metadata": {
            "tags": []
          },
          "execution_count": 12
        },
        {
          "output_type": "execute_result",
          "data": {
            "text/plain": [
              "True"
            ]
          },
          "metadata": {
            "tags": []
          },
          "execution_count": 12
        },
        {
          "output_type": "execute_result",
          "data": {
            "text/plain": [
              "True"
            ]
          },
          "metadata": {
            "tags": []
          },
          "execution_count": 12
        },
        {
          "output_type": "execute_result",
          "data": {
            "text/plain": [
              "True"
            ]
          },
          "metadata": {
            "tags": []
          },
          "execution_count": 12
        },
        {
          "output_type": "execute_result",
          "data": {
            "text/plain": [
              "True"
            ]
          },
          "metadata": {
            "tags": []
          },
          "execution_count": 12
        },
        {
          "output_type": "execute_result",
          "data": {
            "text/plain": [
              "True"
            ]
          },
          "metadata": {
            "tags": []
          },
          "execution_count": 12
        },
        {
          "output_type": "execute_result",
          "data": {
            "text/plain": [
              "True"
            ]
          },
          "metadata": {
            "tags": []
          },
          "execution_count": 12
        },
        {
          "output_type": "execute_result",
          "data": {
            "text/plain": [
              "True"
            ]
          },
          "metadata": {
            "tags": []
          },
          "execution_count": 12
        },
        {
          "output_type": "execute_result",
          "data": {
            "text/plain": [
              "True"
            ]
          },
          "metadata": {
            "tags": []
          },
          "execution_count": 12
        },
        {
          "output_type": "execute_result",
          "data": {
            "text/plain": [
              "True"
            ]
          },
          "metadata": {
            "tags": []
          },
          "execution_count": 12
        },
        {
          "output_type": "execute_result",
          "data": {
            "text/plain": [
              "True"
            ]
          },
          "metadata": {
            "tags": []
          },
          "execution_count": 12
        },
        {
          "output_type": "execute_result",
          "data": {
            "text/plain": [
              "True"
            ]
          },
          "metadata": {
            "tags": []
          },
          "execution_count": 12
        },
        {
          "output_type": "execute_result",
          "data": {
            "text/plain": [
              "True"
            ]
          },
          "metadata": {
            "tags": []
          },
          "execution_count": 12
        },
        {
          "output_type": "execute_result",
          "data": {
            "text/plain": [
              "True"
            ]
          },
          "metadata": {
            "tags": []
          },
          "execution_count": 12
        },
        {
          "output_type": "execute_result",
          "data": {
            "text/plain": [
              "True"
            ]
          },
          "metadata": {
            "tags": []
          },
          "execution_count": 12
        },
        {
          "output_type": "execute_result",
          "data": {
            "text/plain": [
              "True"
            ]
          },
          "metadata": {
            "tags": []
          },
          "execution_count": 12
        },
        {
          "output_type": "execute_result",
          "data": {
            "text/plain": [
              "True"
            ]
          },
          "metadata": {
            "tags": []
          },
          "execution_count": 12
        },
        {
          "output_type": "execute_result",
          "data": {
            "text/plain": [
              "True"
            ]
          },
          "metadata": {
            "tags": []
          },
          "execution_count": 12
        },
        {
          "output_type": "execute_result",
          "data": {
            "text/plain": [
              "True"
            ]
          },
          "metadata": {
            "tags": []
          },
          "execution_count": 12
        },
        {
          "output_type": "execute_result",
          "data": {
            "text/plain": [
              "True"
            ]
          },
          "metadata": {
            "tags": []
          },
          "execution_count": 12
        },
        {
          "output_type": "execute_result",
          "data": {
            "text/plain": [
              "True"
            ]
          },
          "metadata": {
            "tags": []
          },
          "execution_count": 12
        },
        {
          "output_type": "execute_result",
          "data": {
            "text/plain": [
              "True"
            ]
          },
          "metadata": {
            "tags": []
          },
          "execution_count": 12
        },
        {
          "output_type": "execute_result",
          "data": {
            "text/plain": [
              "True"
            ]
          },
          "metadata": {
            "tags": []
          },
          "execution_count": 12
        },
        {
          "output_type": "execute_result",
          "data": {
            "text/plain": [
              "True"
            ]
          },
          "metadata": {
            "tags": []
          },
          "execution_count": 12
        },
        {
          "output_type": "execute_result",
          "data": {
            "text/plain": [
              "True"
            ]
          },
          "metadata": {
            "tags": []
          },
          "execution_count": 12
        },
        {
          "output_type": "execute_result",
          "data": {
            "text/plain": [
              "True"
            ]
          },
          "metadata": {
            "tags": []
          },
          "execution_count": 12
        },
        {
          "output_type": "execute_result",
          "data": {
            "text/plain": [
              "True"
            ]
          },
          "metadata": {
            "tags": []
          },
          "execution_count": 12
        },
        {
          "output_type": "execute_result",
          "data": {
            "text/plain": [
              "True"
            ]
          },
          "metadata": {
            "tags": []
          },
          "execution_count": 12
        },
        {
          "output_type": "execute_result",
          "data": {
            "text/plain": [
              "True"
            ]
          },
          "metadata": {
            "tags": []
          },
          "execution_count": 12
        },
        {
          "output_type": "execute_result",
          "data": {
            "text/plain": [
              "True"
            ]
          },
          "metadata": {
            "tags": []
          },
          "execution_count": 12
        },
        {
          "output_type": "execute_result",
          "data": {
            "text/plain": [
              "True"
            ]
          },
          "metadata": {
            "tags": []
          },
          "execution_count": 12
        },
        {
          "output_type": "execute_result",
          "data": {
            "text/plain": [
              "True"
            ]
          },
          "metadata": {
            "tags": []
          },
          "execution_count": 12
        },
        {
          "output_type": "execute_result",
          "data": {
            "text/plain": [
              "True"
            ]
          },
          "metadata": {
            "tags": []
          },
          "execution_count": 12
        },
        {
          "output_type": "execute_result",
          "data": {
            "text/plain": [
              "True"
            ]
          },
          "metadata": {
            "tags": []
          },
          "execution_count": 12
        },
        {
          "output_type": "execute_result",
          "data": {
            "text/plain": [
              "True"
            ]
          },
          "metadata": {
            "tags": []
          },
          "execution_count": 12
        },
        {
          "output_type": "execute_result",
          "data": {
            "text/plain": [
              "True"
            ]
          },
          "metadata": {
            "tags": []
          },
          "execution_count": 12
        },
        {
          "output_type": "execute_result",
          "data": {
            "text/plain": [
              "True"
            ]
          },
          "metadata": {
            "tags": []
          },
          "execution_count": 12
        },
        {
          "output_type": "execute_result",
          "data": {
            "text/plain": [
              "True"
            ]
          },
          "metadata": {
            "tags": []
          },
          "execution_count": 12
        },
        {
          "output_type": "execute_result",
          "data": {
            "text/plain": [
              "True"
            ]
          },
          "metadata": {
            "tags": []
          },
          "execution_count": 12
        },
        {
          "output_type": "execute_result",
          "data": {
            "text/plain": [
              "True"
            ]
          },
          "metadata": {
            "tags": []
          },
          "execution_count": 12
        },
        {
          "output_type": "execute_result",
          "data": {
            "text/plain": [
              "True"
            ]
          },
          "metadata": {
            "tags": []
          },
          "execution_count": 12
        },
        {
          "output_type": "execute_result",
          "data": {
            "text/plain": [
              "True"
            ]
          },
          "metadata": {
            "tags": []
          },
          "execution_count": 12
        },
        {
          "output_type": "execute_result",
          "data": {
            "text/plain": [
              "True"
            ]
          },
          "metadata": {
            "tags": []
          },
          "execution_count": 12
        },
        {
          "output_type": "execute_result",
          "data": {
            "text/plain": [
              "True"
            ]
          },
          "metadata": {
            "tags": []
          },
          "execution_count": 12
        },
        {
          "output_type": "execute_result",
          "data": {
            "text/plain": [
              "True"
            ]
          },
          "metadata": {
            "tags": []
          },
          "execution_count": 12
        },
        {
          "output_type": "execute_result",
          "data": {
            "text/plain": [
              "True"
            ]
          },
          "metadata": {
            "tags": []
          },
          "execution_count": 12
        },
        {
          "output_type": "execute_result",
          "data": {
            "text/plain": [
              "True"
            ]
          },
          "metadata": {
            "tags": []
          },
          "execution_count": 12
        },
        {
          "output_type": "execute_result",
          "data": {
            "text/plain": [
              "True"
            ]
          },
          "metadata": {
            "tags": []
          },
          "execution_count": 12
        },
        {
          "output_type": "execute_result",
          "data": {
            "text/plain": [
              "True"
            ]
          },
          "metadata": {
            "tags": []
          },
          "execution_count": 12
        },
        {
          "output_type": "execute_result",
          "data": {
            "text/plain": [
              "True"
            ]
          },
          "metadata": {
            "tags": []
          },
          "execution_count": 12
        },
        {
          "output_type": "execute_result",
          "data": {
            "text/plain": [
              "True"
            ]
          },
          "metadata": {
            "tags": []
          },
          "execution_count": 12
        },
        {
          "output_type": "execute_result",
          "data": {
            "text/plain": [
              "True"
            ]
          },
          "metadata": {
            "tags": []
          },
          "execution_count": 12
        },
        {
          "output_type": "execute_result",
          "data": {
            "text/plain": [
              "True"
            ]
          },
          "metadata": {
            "tags": []
          },
          "execution_count": 12
        },
        {
          "output_type": "execute_result",
          "data": {
            "text/plain": [
              "True"
            ]
          },
          "metadata": {
            "tags": []
          },
          "execution_count": 12
        },
        {
          "output_type": "execute_result",
          "data": {
            "text/plain": [
              "True"
            ]
          },
          "metadata": {
            "tags": []
          },
          "execution_count": 12
        },
        {
          "output_type": "execute_result",
          "data": {
            "text/plain": [
              "True"
            ]
          },
          "metadata": {
            "tags": []
          },
          "execution_count": 12
        },
        {
          "output_type": "execute_result",
          "data": {
            "text/plain": [
              "True"
            ]
          },
          "metadata": {
            "tags": []
          },
          "execution_count": 12
        },
        {
          "output_type": "execute_result",
          "data": {
            "text/plain": [
              "True"
            ]
          },
          "metadata": {
            "tags": []
          },
          "execution_count": 12
        },
        {
          "output_type": "execute_result",
          "data": {
            "text/plain": [
              "True"
            ]
          },
          "metadata": {
            "tags": []
          },
          "execution_count": 12
        },
        {
          "output_type": "execute_result",
          "data": {
            "text/plain": [
              "True"
            ]
          },
          "metadata": {
            "tags": []
          },
          "execution_count": 12
        },
        {
          "output_type": "execute_result",
          "data": {
            "text/plain": [
              "True"
            ]
          },
          "metadata": {
            "tags": []
          },
          "execution_count": 12
        },
        {
          "output_type": "execute_result",
          "data": {
            "text/plain": [
              "True"
            ]
          },
          "metadata": {
            "tags": []
          },
          "execution_count": 12
        },
        {
          "output_type": "execute_result",
          "data": {
            "text/plain": [
              "True"
            ]
          },
          "metadata": {
            "tags": []
          },
          "execution_count": 12
        },
        {
          "output_type": "execute_result",
          "data": {
            "text/plain": [
              "True"
            ]
          },
          "metadata": {
            "tags": []
          },
          "execution_count": 12
        },
        {
          "output_type": "execute_result",
          "data": {
            "text/plain": [
              "True"
            ]
          },
          "metadata": {
            "tags": []
          },
          "execution_count": 12
        },
        {
          "output_type": "execute_result",
          "data": {
            "text/plain": [
              "True"
            ]
          },
          "metadata": {
            "tags": []
          },
          "execution_count": 12
        },
        {
          "output_type": "execute_result",
          "data": {
            "text/plain": [
              "True"
            ]
          },
          "metadata": {
            "tags": []
          },
          "execution_count": 12
        },
        {
          "output_type": "execute_result",
          "data": {
            "text/plain": [
              "True"
            ]
          },
          "metadata": {
            "tags": []
          },
          "execution_count": 12
        },
        {
          "output_type": "execute_result",
          "data": {
            "text/plain": [
              "True"
            ]
          },
          "metadata": {
            "tags": []
          },
          "execution_count": 12
        },
        {
          "output_type": "execute_result",
          "data": {
            "text/plain": [
              "True"
            ]
          },
          "metadata": {
            "tags": []
          },
          "execution_count": 12
        },
        {
          "output_type": "execute_result",
          "data": {
            "text/plain": [
              "True"
            ]
          },
          "metadata": {
            "tags": []
          },
          "execution_count": 12
        },
        {
          "output_type": "execute_result",
          "data": {
            "text/plain": [
              "True"
            ]
          },
          "metadata": {
            "tags": []
          },
          "execution_count": 12
        },
        {
          "output_type": "execute_result",
          "data": {
            "text/plain": [
              "True"
            ]
          },
          "metadata": {
            "tags": []
          },
          "execution_count": 12
        },
        {
          "output_type": "execute_result",
          "data": {
            "text/plain": [
              "True"
            ]
          },
          "metadata": {
            "tags": []
          },
          "execution_count": 12
        },
        {
          "output_type": "execute_result",
          "data": {
            "text/plain": [
              "True"
            ]
          },
          "metadata": {
            "tags": []
          },
          "execution_count": 12
        },
        {
          "output_type": "execute_result",
          "data": {
            "text/plain": [
              "True"
            ]
          },
          "metadata": {
            "tags": []
          },
          "execution_count": 12
        },
        {
          "output_type": "execute_result",
          "data": {
            "text/plain": [
              "True"
            ]
          },
          "metadata": {
            "tags": []
          },
          "execution_count": 12
        },
        {
          "output_type": "execute_result",
          "data": {
            "text/plain": [
              "True"
            ]
          },
          "metadata": {
            "tags": []
          },
          "execution_count": 12
        },
        {
          "output_type": "execute_result",
          "data": {
            "text/plain": [
              "True"
            ]
          },
          "metadata": {
            "tags": []
          },
          "execution_count": 12
        },
        {
          "output_type": "execute_result",
          "data": {
            "text/plain": [
              "True"
            ]
          },
          "metadata": {
            "tags": []
          },
          "execution_count": 12
        },
        {
          "output_type": "execute_result",
          "data": {
            "text/plain": [
              "True"
            ]
          },
          "metadata": {
            "tags": []
          },
          "execution_count": 12
        },
        {
          "output_type": "execute_result",
          "data": {
            "text/plain": [
              "True"
            ]
          },
          "metadata": {
            "tags": []
          },
          "execution_count": 12
        },
        {
          "output_type": "execute_result",
          "data": {
            "text/plain": [
              "True"
            ]
          },
          "metadata": {
            "tags": []
          },
          "execution_count": 12
        },
        {
          "output_type": "execute_result",
          "data": {
            "text/plain": [
              "True"
            ]
          },
          "metadata": {
            "tags": []
          },
          "execution_count": 12
        },
        {
          "output_type": "execute_result",
          "data": {
            "text/plain": [
              "True"
            ]
          },
          "metadata": {
            "tags": []
          },
          "execution_count": 12
        },
        {
          "output_type": "execute_result",
          "data": {
            "text/plain": [
              "True"
            ]
          },
          "metadata": {
            "tags": []
          },
          "execution_count": 12
        },
        {
          "output_type": "execute_result",
          "data": {
            "text/plain": [
              "True"
            ]
          },
          "metadata": {
            "tags": []
          },
          "execution_count": 12
        },
        {
          "output_type": "execute_result",
          "data": {
            "text/plain": [
              "True"
            ]
          },
          "metadata": {
            "tags": []
          },
          "execution_count": 12
        },
        {
          "output_type": "execute_result",
          "data": {
            "text/plain": [
              "True"
            ]
          },
          "metadata": {
            "tags": []
          },
          "execution_count": 12
        },
        {
          "output_type": "execute_result",
          "data": {
            "text/plain": [
              "True"
            ]
          },
          "metadata": {
            "tags": []
          },
          "execution_count": 12
        },
        {
          "output_type": "execute_result",
          "data": {
            "text/plain": [
              "True"
            ]
          },
          "metadata": {
            "tags": []
          },
          "execution_count": 12
        },
        {
          "output_type": "execute_result",
          "data": {
            "text/plain": [
              "True"
            ]
          },
          "metadata": {
            "tags": []
          },
          "execution_count": 12
        },
        {
          "output_type": "execute_result",
          "data": {
            "text/plain": [
              "True"
            ]
          },
          "metadata": {
            "tags": []
          },
          "execution_count": 12
        },
        {
          "output_type": "execute_result",
          "data": {
            "text/plain": [
              "True"
            ]
          },
          "metadata": {
            "tags": []
          },
          "execution_count": 12
        },
        {
          "output_type": "execute_result",
          "data": {
            "text/plain": [
              "True"
            ]
          },
          "metadata": {
            "tags": []
          },
          "execution_count": 12
        },
        {
          "output_type": "execute_result",
          "data": {
            "text/plain": [
              "True"
            ]
          },
          "metadata": {
            "tags": []
          },
          "execution_count": 12
        },
        {
          "output_type": "execute_result",
          "data": {
            "text/plain": [
              "True"
            ]
          },
          "metadata": {
            "tags": []
          },
          "execution_count": 12
        },
        {
          "output_type": "execute_result",
          "data": {
            "text/plain": [
              "True"
            ]
          },
          "metadata": {
            "tags": []
          },
          "execution_count": 12
        },
        {
          "output_type": "execute_result",
          "data": {
            "text/plain": [
              "True"
            ]
          },
          "metadata": {
            "tags": []
          },
          "execution_count": 12
        },
        {
          "output_type": "execute_result",
          "data": {
            "text/plain": [
              "True"
            ]
          },
          "metadata": {
            "tags": []
          },
          "execution_count": 12
        },
        {
          "output_type": "execute_result",
          "data": {
            "text/plain": [
              "True"
            ]
          },
          "metadata": {
            "tags": []
          },
          "execution_count": 12
        },
        {
          "output_type": "execute_result",
          "data": {
            "text/plain": [
              "True"
            ]
          },
          "metadata": {
            "tags": []
          },
          "execution_count": 12
        },
        {
          "output_type": "execute_result",
          "data": {
            "text/plain": [
              "True"
            ]
          },
          "metadata": {
            "tags": []
          },
          "execution_count": 12
        },
        {
          "output_type": "execute_result",
          "data": {
            "text/plain": [
              "True"
            ]
          },
          "metadata": {
            "tags": []
          },
          "execution_count": 12
        },
        {
          "output_type": "execute_result",
          "data": {
            "text/plain": [
              "True"
            ]
          },
          "metadata": {
            "tags": []
          },
          "execution_count": 12
        },
        {
          "output_type": "execute_result",
          "data": {
            "text/plain": [
              "True"
            ]
          },
          "metadata": {
            "tags": []
          },
          "execution_count": 12
        },
        {
          "output_type": "execute_result",
          "data": {
            "text/plain": [
              "True"
            ]
          },
          "metadata": {
            "tags": []
          },
          "execution_count": 12
        },
        {
          "output_type": "execute_result",
          "data": {
            "text/plain": [
              "True"
            ]
          },
          "metadata": {
            "tags": []
          },
          "execution_count": 12
        },
        {
          "output_type": "execute_result",
          "data": {
            "text/plain": [
              "True"
            ]
          },
          "metadata": {
            "tags": []
          },
          "execution_count": 12
        },
        {
          "output_type": "execute_result",
          "data": {
            "text/plain": [
              "True"
            ]
          },
          "metadata": {
            "tags": []
          },
          "execution_count": 12
        },
        {
          "output_type": "execute_result",
          "data": {
            "text/plain": [
              "True"
            ]
          },
          "metadata": {
            "tags": []
          },
          "execution_count": 12
        },
        {
          "output_type": "execute_result",
          "data": {
            "text/plain": [
              "True"
            ]
          },
          "metadata": {
            "tags": []
          },
          "execution_count": 12
        },
        {
          "output_type": "execute_result",
          "data": {
            "text/plain": [
              "True"
            ]
          },
          "metadata": {
            "tags": []
          },
          "execution_count": 12
        },
        {
          "output_type": "execute_result",
          "data": {
            "text/plain": [
              "True"
            ]
          },
          "metadata": {
            "tags": []
          },
          "execution_count": 12
        },
        {
          "output_type": "execute_result",
          "data": {
            "text/plain": [
              "True"
            ]
          },
          "metadata": {
            "tags": []
          },
          "execution_count": 12
        },
        {
          "output_type": "execute_result",
          "data": {
            "text/plain": [
              "True"
            ]
          },
          "metadata": {
            "tags": []
          },
          "execution_count": 12
        },
        {
          "output_type": "execute_result",
          "data": {
            "text/plain": [
              "True"
            ]
          },
          "metadata": {
            "tags": []
          },
          "execution_count": 12
        },
        {
          "output_type": "execute_result",
          "data": {
            "text/plain": [
              "True"
            ]
          },
          "metadata": {
            "tags": []
          },
          "execution_count": 12
        },
        {
          "output_type": "execute_result",
          "data": {
            "text/plain": [
              "True"
            ]
          },
          "metadata": {
            "tags": []
          },
          "execution_count": 12
        },
        {
          "output_type": "execute_result",
          "data": {
            "text/plain": [
              "True"
            ]
          },
          "metadata": {
            "tags": []
          },
          "execution_count": 12
        },
        {
          "output_type": "execute_result",
          "data": {
            "text/plain": [
              "True"
            ]
          },
          "metadata": {
            "tags": []
          },
          "execution_count": 12
        },
        {
          "output_type": "execute_result",
          "data": {
            "text/plain": [
              "True"
            ]
          },
          "metadata": {
            "tags": []
          },
          "execution_count": 12
        },
        {
          "output_type": "execute_result",
          "data": {
            "text/plain": [
              "True"
            ]
          },
          "metadata": {
            "tags": []
          },
          "execution_count": 12
        },
        {
          "output_type": "execute_result",
          "data": {
            "text/plain": [
              "True"
            ]
          },
          "metadata": {
            "tags": []
          },
          "execution_count": 12
        },
        {
          "output_type": "execute_result",
          "data": {
            "text/plain": [
              "True"
            ]
          },
          "metadata": {
            "tags": []
          },
          "execution_count": 12
        },
        {
          "output_type": "execute_result",
          "data": {
            "text/plain": [
              "True"
            ]
          },
          "metadata": {
            "tags": []
          },
          "execution_count": 12
        },
        {
          "output_type": "execute_result",
          "data": {
            "text/plain": [
              "True"
            ]
          },
          "metadata": {
            "tags": []
          },
          "execution_count": 12
        },
        {
          "output_type": "execute_result",
          "data": {
            "text/plain": [
              "True"
            ]
          },
          "metadata": {
            "tags": []
          },
          "execution_count": 12
        },
        {
          "output_type": "execute_result",
          "data": {
            "text/plain": [
              "True"
            ]
          },
          "metadata": {
            "tags": []
          },
          "execution_count": 12
        },
        {
          "output_type": "execute_result",
          "data": {
            "text/plain": [
              "True"
            ]
          },
          "metadata": {
            "tags": []
          },
          "execution_count": 12
        },
        {
          "output_type": "execute_result",
          "data": {
            "text/plain": [
              "True"
            ]
          },
          "metadata": {
            "tags": []
          },
          "execution_count": 12
        },
        {
          "output_type": "execute_result",
          "data": {
            "text/plain": [
              "True"
            ]
          },
          "metadata": {
            "tags": []
          },
          "execution_count": 12
        },
        {
          "output_type": "execute_result",
          "data": {
            "text/plain": [
              "True"
            ]
          },
          "metadata": {
            "tags": []
          },
          "execution_count": 12
        },
        {
          "output_type": "execute_result",
          "data": {
            "text/plain": [
              "True"
            ]
          },
          "metadata": {
            "tags": []
          },
          "execution_count": 12
        },
        {
          "output_type": "execute_result",
          "data": {
            "text/plain": [
              "True"
            ]
          },
          "metadata": {
            "tags": []
          },
          "execution_count": 12
        },
        {
          "output_type": "execute_result",
          "data": {
            "text/plain": [
              "True"
            ]
          },
          "metadata": {
            "tags": []
          },
          "execution_count": 12
        },
        {
          "output_type": "execute_result",
          "data": {
            "text/plain": [
              "True"
            ]
          },
          "metadata": {
            "tags": []
          },
          "execution_count": 12
        },
        {
          "output_type": "execute_result",
          "data": {
            "text/plain": [
              "True"
            ]
          },
          "metadata": {
            "tags": []
          },
          "execution_count": 12
        },
        {
          "output_type": "execute_result",
          "data": {
            "text/plain": [
              "True"
            ]
          },
          "metadata": {
            "tags": []
          },
          "execution_count": 12
        },
        {
          "output_type": "execute_result",
          "data": {
            "text/plain": [
              "True"
            ]
          },
          "metadata": {
            "tags": []
          },
          "execution_count": 12
        },
        {
          "output_type": "execute_result",
          "data": {
            "text/plain": [
              "True"
            ]
          },
          "metadata": {
            "tags": []
          },
          "execution_count": 12
        },
        {
          "output_type": "execute_result",
          "data": {
            "text/plain": [
              "True"
            ]
          },
          "metadata": {
            "tags": []
          },
          "execution_count": 12
        },
        {
          "output_type": "execute_result",
          "data": {
            "text/plain": [
              "True"
            ]
          },
          "metadata": {
            "tags": []
          },
          "execution_count": 12
        },
        {
          "output_type": "execute_result",
          "data": {
            "text/plain": [
              "True"
            ]
          },
          "metadata": {
            "tags": []
          },
          "execution_count": 12
        },
        {
          "output_type": "execute_result",
          "data": {
            "text/plain": [
              "True"
            ]
          },
          "metadata": {
            "tags": []
          },
          "execution_count": 12
        },
        {
          "output_type": "execute_result",
          "data": {
            "text/plain": [
              "True"
            ]
          },
          "metadata": {
            "tags": []
          },
          "execution_count": 12
        },
        {
          "output_type": "execute_result",
          "data": {
            "text/plain": [
              "True"
            ]
          },
          "metadata": {
            "tags": []
          },
          "execution_count": 12
        },
        {
          "output_type": "execute_result",
          "data": {
            "text/plain": [
              "True"
            ]
          },
          "metadata": {
            "tags": []
          },
          "execution_count": 12
        },
        {
          "output_type": "execute_result",
          "data": {
            "text/plain": [
              "True"
            ]
          },
          "metadata": {
            "tags": []
          },
          "execution_count": 12
        },
        {
          "output_type": "execute_result",
          "data": {
            "text/plain": [
              "True"
            ]
          },
          "metadata": {
            "tags": []
          },
          "execution_count": 12
        },
        {
          "output_type": "execute_result",
          "data": {
            "text/plain": [
              "True"
            ]
          },
          "metadata": {
            "tags": []
          },
          "execution_count": 12
        },
        {
          "output_type": "execute_result",
          "data": {
            "text/plain": [
              "True"
            ]
          },
          "metadata": {
            "tags": []
          },
          "execution_count": 12
        },
        {
          "output_type": "execute_result",
          "data": {
            "text/plain": [
              "True"
            ]
          },
          "metadata": {
            "tags": []
          },
          "execution_count": 12
        },
        {
          "output_type": "execute_result",
          "data": {
            "text/plain": [
              "True"
            ]
          },
          "metadata": {
            "tags": []
          },
          "execution_count": 12
        },
        {
          "output_type": "execute_result",
          "data": {
            "text/plain": [
              "True"
            ]
          },
          "metadata": {
            "tags": []
          },
          "execution_count": 12
        },
        {
          "output_type": "execute_result",
          "data": {
            "text/plain": [
              "True"
            ]
          },
          "metadata": {
            "tags": []
          },
          "execution_count": 12
        },
        {
          "output_type": "execute_result",
          "data": {
            "text/plain": [
              "True"
            ]
          },
          "metadata": {
            "tags": []
          },
          "execution_count": 12
        },
        {
          "output_type": "execute_result",
          "data": {
            "text/plain": [
              "True"
            ]
          },
          "metadata": {
            "tags": []
          },
          "execution_count": 12
        },
        {
          "output_type": "execute_result",
          "data": {
            "text/plain": [
              "True"
            ]
          },
          "metadata": {
            "tags": []
          },
          "execution_count": 12
        },
        {
          "output_type": "execute_result",
          "data": {
            "text/plain": [
              "True"
            ]
          },
          "metadata": {
            "tags": []
          },
          "execution_count": 12
        },
        {
          "output_type": "execute_result",
          "data": {
            "text/plain": [
              "True"
            ]
          },
          "metadata": {
            "tags": []
          },
          "execution_count": 12
        },
        {
          "output_type": "execute_result",
          "data": {
            "text/plain": [
              "True"
            ]
          },
          "metadata": {
            "tags": []
          },
          "execution_count": 12
        },
        {
          "output_type": "execute_result",
          "data": {
            "text/plain": [
              "True"
            ]
          },
          "metadata": {
            "tags": []
          },
          "execution_count": 12
        },
        {
          "output_type": "execute_result",
          "data": {
            "text/plain": [
              "True"
            ]
          },
          "metadata": {
            "tags": []
          },
          "execution_count": 12
        },
        {
          "output_type": "execute_result",
          "data": {
            "text/plain": [
              "True"
            ]
          },
          "metadata": {
            "tags": []
          },
          "execution_count": 12
        },
        {
          "output_type": "execute_result",
          "data": {
            "text/plain": [
              "True"
            ]
          },
          "metadata": {
            "tags": []
          },
          "execution_count": 12
        },
        {
          "output_type": "execute_result",
          "data": {
            "text/plain": [
              "True"
            ]
          },
          "metadata": {
            "tags": []
          },
          "execution_count": 12
        },
        {
          "output_type": "execute_result",
          "data": {
            "text/plain": [
              "True"
            ]
          },
          "metadata": {
            "tags": []
          },
          "execution_count": 12
        },
        {
          "output_type": "execute_result",
          "data": {
            "text/plain": [
              "True"
            ]
          },
          "metadata": {
            "tags": []
          },
          "execution_count": 12
        },
        {
          "output_type": "execute_result",
          "data": {
            "text/plain": [
              "True"
            ]
          },
          "metadata": {
            "tags": []
          },
          "execution_count": 12
        },
        {
          "output_type": "execute_result",
          "data": {
            "text/plain": [
              "True"
            ]
          },
          "metadata": {
            "tags": []
          },
          "execution_count": 12
        },
        {
          "output_type": "execute_result",
          "data": {
            "text/plain": [
              "True"
            ]
          },
          "metadata": {
            "tags": []
          },
          "execution_count": 12
        },
        {
          "output_type": "execute_result",
          "data": {
            "text/plain": [
              "True"
            ]
          },
          "metadata": {
            "tags": []
          },
          "execution_count": 12
        },
        {
          "output_type": "execute_result",
          "data": {
            "text/plain": [
              "True"
            ]
          },
          "metadata": {
            "tags": []
          },
          "execution_count": 12
        },
        {
          "output_type": "execute_result",
          "data": {
            "text/plain": [
              "True"
            ]
          },
          "metadata": {
            "tags": []
          },
          "execution_count": 12
        },
        {
          "output_type": "execute_result",
          "data": {
            "text/plain": [
              "True"
            ]
          },
          "metadata": {
            "tags": []
          },
          "execution_count": 12
        },
        {
          "output_type": "execute_result",
          "data": {
            "text/plain": [
              "True"
            ]
          },
          "metadata": {
            "tags": []
          },
          "execution_count": 12
        },
        {
          "output_type": "execute_result",
          "data": {
            "text/plain": [
              "True"
            ]
          },
          "metadata": {
            "tags": []
          },
          "execution_count": 12
        },
        {
          "output_type": "execute_result",
          "data": {
            "text/plain": [
              "True"
            ]
          },
          "metadata": {
            "tags": []
          },
          "execution_count": 12
        },
        {
          "output_type": "execute_result",
          "data": {
            "text/plain": [
              "True"
            ]
          },
          "metadata": {
            "tags": []
          },
          "execution_count": 12
        },
        {
          "output_type": "execute_result",
          "data": {
            "text/plain": [
              "True"
            ]
          },
          "metadata": {
            "tags": []
          },
          "execution_count": 12
        },
        {
          "output_type": "execute_result",
          "data": {
            "text/plain": [
              "True"
            ]
          },
          "metadata": {
            "tags": []
          },
          "execution_count": 12
        },
        {
          "output_type": "execute_result",
          "data": {
            "text/plain": [
              "True"
            ]
          },
          "metadata": {
            "tags": []
          },
          "execution_count": 12
        },
        {
          "output_type": "execute_result",
          "data": {
            "text/plain": [
              "True"
            ]
          },
          "metadata": {
            "tags": []
          },
          "execution_count": 12
        },
        {
          "output_type": "execute_result",
          "data": {
            "text/plain": [
              "True"
            ]
          },
          "metadata": {
            "tags": []
          },
          "execution_count": 12
        },
        {
          "output_type": "execute_result",
          "data": {
            "text/plain": [
              "True"
            ]
          },
          "metadata": {
            "tags": []
          },
          "execution_count": 12
        },
        {
          "output_type": "execute_result",
          "data": {
            "text/plain": [
              "True"
            ]
          },
          "metadata": {
            "tags": []
          },
          "execution_count": 12
        },
        {
          "output_type": "execute_result",
          "data": {
            "text/plain": [
              "True"
            ]
          },
          "metadata": {
            "tags": []
          },
          "execution_count": 12
        },
        {
          "output_type": "execute_result",
          "data": {
            "text/plain": [
              "True"
            ]
          },
          "metadata": {
            "tags": []
          },
          "execution_count": 12
        },
        {
          "output_type": "execute_result",
          "data": {
            "text/plain": [
              "True"
            ]
          },
          "metadata": {
            "tags": []
          },
          "execution_count": 12
        },
        {
          "output_type": "execute_result",
          "data": {
            "text/plain": [
              "True"
            ]
          },
          "metadata": {
            "tags": []
          },
          "execution_count": 12
        },
        {
          "output_type": "execute_result",
          "data": {
            "text/plain": [
              "True"
            ]
          },
          "metadata": {
            "tags": []
          },
          "execution_count": 12
        },
        {
          "output_type": "execute_result",
          "data": {
            "text/plain": [
              "True"
            ]
          },
          "metadata": {
            "tags": []
          },
          "execution_count": 12
        },
        {
          "output_type": "execute_result",
          "data": {
            "text/plain": [
              "True"
            ]
          },
          "metadata": {
            "tags": []
          },
          "execution_count": 12
        },
        {
          "output_type": "stream",
          "text": [
            "Total reward at episode 10000: 200.0\n"
          ],
          "name": "stdout"
        },
        {
          "output_type": "display_data",
          "data": {
            "text/html": [
              "<video alt=\"test\" autoplay \n",
              "                loop controls style=\"height: 400px;\">\n",
              "                <source src=\"data:video/mp4;base64,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\" type=\"video/mp4\" />\n",
              "            </video>"
            ],
            "text/plain": [
              "<IPython.core.display.HTML object>"
            ]
          },
          "metadata": {
            "tags": []
          }
        }
      ]
    },
    {
      "cell_type": "markdown",
      "metadata": {
        "id": "7RbC9GKag15q"
      },
      "source": [
        "# MountainCar\n"
      ]
    },
    {
      "cell_type": "markdown",
      "metadata": {
        "id": "_0oyL2bxg_1j"
      },
      "source": [
        "Now apply the things you've learned to the MountainCar problem. Please note that the observable space differs from the previous problem. Thus, before you start training, you need to learn more about thethis new environment.\n",
        "\n",
        "Here is some code to help you get started.."
      ]
    },
    {
      "cell_type": "code",
      "metadata": {
        "id": "hWzVnM10g4Oc",
        "colab": {
          "base_uri": "https://localhost:8080/",
          "height": 587
        },
        "outputId": "ab782539-1276-4603-e253-6736b5bc7b64"
      },
      "source": [
        "# Create the desired environment\n",
        "env = gym.make(\"MountainCar-v0\")\n",
        "\n",
        "# Wrap the environment, to make sure we get to see a fancy video\n",
        "env = video_env(env)\n",
        "\n",
        "# Before you can use a Gym environment, it needs to be reset.\n",
        "state = env.reset()\n",
        "\n",
        "# Perform random actions untill we drop the stick. Just as an example.\n",
        "done = False\n",
        "while not done:\n",
        "   \n",
        "    # Explore and take actions\n",
        "    pass\n",
        "    random_action = env.action_space.sample() \n",
        "\n",
        "    state, reward, done, info = env.step(2)\n",
        "    print(state)\n",
        "    # Remove the line below when you have created an implementation you want to test.\n",
        "    if np.random.random()>0.95:\n",
        "      done = True\n",
        "print(state)\n",
        "print(done)\n",
        "print(info)\n",
        "# Show the results!\n",
        "env.close()\n",
        "show_video()"
      ],
      "execution_count": 17,
      "outputs": [
        {
          "output_type": "stream",
          "text": [
            "[-0.56403287  0.00131228]\n",
            "[-0.56141808  0.00261479]\n",
            "[-0.55752025  0.00389783]\n",
            "[-0.55236845  0.0051518 ]\n",
            "[-0.54600114  0.00636731]\n",
            "[-0.53846594  0.0075352 ]\n",
            "[-0.52981928  0.00864666]\n",
            "[-0.52981928  0.00864666]\n",
            "True\n",
            "{}\n"
          ],
          "name": "stdout"
        },
        {
          "output_type": "display_data",
          "data": {
            "text/html": [
              "<video alt=\"test\" autoplay \n",
              "                loop controls style=\"height: 400px;\">\n",
              "                <source src=\"data:video/mp4;base64,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\" type=\"video/mp4\" />\n",
              "            </video>"
            ],
            "text/plain": [
              "<IPython.core.display.HTML object>"
            ]
          },
          "metadata": {
            "tags": []
          }
        }
      ]
    },
    {
      "cell_type": "code",
      "metadata": {
        "id": "rq3jNLklFGVR"
      },
      "source": [
        "# Define parameters - Fill in the dots\n",
        "\n",
        "num_episodes = 100000\n",
        "num_episodes_between_status_update = 500\n",
        "num_episodes_between_videos = 5000\n",
        "\n",
        "learning_rate = 0.05         # also known as: alpha\n",
        "discount = 0.95              # also known as: gamma\n",
        "epsilon = 0.5\n",
        "\n",
        "# Epsilon decay\n",
        "# facto to be multiplied with epsilon for every percentage amount of episodes\n",
        "# so after 100 of the 10000 episodes, epsilon will drop by epsilon*epsilon_factor\n",
        "epsilon_factor = 0.97\n",
        "pass    # Optionally, add parameters for epsilon decay here\n",
        "\n",
        "# Discretization\n",
        "pass    # You can add parameters to discretize states here"
      ],
      "execution_count": 18,
      "outputs": []
    },
    {
      "cell_type": "code",
      "metadata": {
        "id": "YHEPGllGFGVm"
      },
      "source": [
        "## Q-Table creation\n",
        "\n",
        "# As seen before, the state consists of 4 floating point values.\n",
        "# It makes sense to discretize these values (read: place them in buckets), to reduce the state space and therefore the Q-table size\n",
        "state_shape = [50,50]      # For instance: [4, 4, 6, 6], or [10] * 4, or [200, 200, 100, 100]\n",
        "\n",
        "# Define the initial Q table as a random uniform distribution\n",
        "q_table = np.random.uniform(low=-2, high=0, size=(state_shape + [env.action_space.n]))\n",
        "\n",
        "#print('Initial Q table:', q_table)"
      ],
      "execution_count": 19,
      "outputs": []
    },
    {
      "cell_type": "markdown",
      "metadata": {
        "id": "2HfOUgY-FGVn"
      },
      "source": [
        "# Train\n"
      ]
    },
    {
      "cell_type": "code",
      "metadata": {
        "id": "4KTR1busFGVo"
      },
      "source": [
        "# Functions\n",
        "\n",
        "\n",
        "bins = [np.linspace(-1.2,0.6,state_shape[0]),\n",
        "        np.linspace(-0.07,0.07,state_shape[1])]\n",
        "\n",
        "\n",
        "def discretize_state(state):\n",
        "    # A Q-table cannot practically handle infinite states, so limit the state space by\n",
        "    # discretizing the state into buckets.\n",
        "    discrete_state = []\n",
        "    for i in range(len(state)):\n",
        "       discrete_state.append(np.digitize(state[i],bins[i]) - 1)\n",
        "    discrete_state = np.array(discrete_state)\n",
        "    return tuple(discrete_state.astype(np.int))\n",
        "\n",
        "def take_action(discrete_state, epsilon):\n",
        "    # Take an action to either explore or exploit.\n",
        "    # epsilon defines ratio exploration/exploitation\n",
        "    if epsilon>np.random.random():\n",
        "      # explore\n",
        "      action = env.action_space.sample()\n",
        "    else:\n",
        "      # exploit: get action with highest q value\n",
        "      #q_values = get_q_values(discrete_state)\n",
        "      #action = q_values.index(max(q_values))\n",
        "      action = np.argmax(q_table[discrete_state])\n",
        "    return action\n",
        "\n",
        "def estimated_max_for_next_state(discrete_state):\n",
        "    # What's the best expected Q-value for the next state?\n",
        "    estimated_max = max(q_table[discrete_state])\n",
        "    return estimated_max\n",
        "\n",
        "def new_q_value(discrete_state, action, max_future_q):\n",
        "    # Calculate the new Q-value\n",
        "    current_q = q_table[discrete_state][action]\n",
        "    new_q = current_q + learning_rate * (reward + discount * max_future_q - current_q)\n",
        "    return new_q\n",
        "\n",
        "def decayed_epsilon(epsilon, episode):\n",
        "    # Optionally, decay the epsilon value\n",
        "    if episode%(num_episodes/100)==0:\n",
        "      epsilon = epsilon * epsilon_factor\n",
        "    return epsilon\n",
        "\n",
        "\n",
        "def get_q_values(discrete_state):\n",
        "    # Get q values for all possible actions\n",
        "    return q_table"
      ],
      "execution_count": 20,
      "outputs": []
    },
    {
      "cell_type": "code",
      "metadata": {
        "colab": {
          "base_uri": "https://localhost:8080/",
          "height": 1000
        },
        "id": "qa0x-85mFGVo",
        "outputId": "f359cf9c-3a0a-47e4-9530-03b04b02d112"
      },
      "source": [
        "# Time to train the system\n",
        "\n",
        "for episode in range(num_episodes):\n",
        "    state = env.reset() # Don't forget to reset the environment between episodes\n",
        "    current_state_disc = discretize_state(state)\n",
        "\n",
        "    reward_sum = 0\n",
        "    done = False\n",
        "    while not done:\n",
        "        if (episode + 1) % num_episodes_between_videos == 0:\n",
        "            env.render()\n",
        "\n",
        "        # Take an action by exploration or exploitation\n",
        "        action = take_action(current_state_disc, epsilon)\n",
        "        new_state, reward, done, info = env.step(action)\n",
        "        new_state_disc = discretize_state(new_state)\n",
        "\n",
        "        # Calculate the total reward\n",
        "        reward_sum += reward\n",
        "\n",
        "        if not done:\n",
        "            # Retrieve the maximum estimated value for the next state\n",
        "            max_future_q = estimated_max_for_next_state(new_state_disc)\n",
        "\n",
        "            # Calculate the new value (note: Bellman equation)\n",
        "            new_q = new_q_value(current_state_disc, action, max_future_q)\n",
        "            q_table[current_state_disc + (action,)] = new_q\n",
        "        else:\n",
        "            # Render the video\n",
        "            if (episode + 1) % num_episodes_between_status_update == 0:\n",
        "                env.render()\n",
        "                print(f'Total reward at episode {episode + 1}: {reward_sum}')\n",
        "\n",
        "        # Prepare for the next loop\n",
        "        current_state_disc = new_state_disc\n",
        "        \n",
        "\n",
        "    # Decay epsilon\n",
        "    epsilon = decayed_epsilon(epsilon, episode)\n",
        "    if episode%1000==0:\n",
        "      print(epsilon)\n",
        "\n",
        "env.close()\n",
        "show_video()"
      ],
      "execution_count": 21,
      "outputs": [
        {
          "output_type": "stream",
          "text": [
            "0.485\n",
            "Total reward at episode 500: -200.0\n",
            "Total reward at episode 1000: -200.0\n",
            "0.47045\n",
            "Total reward at episode 1500: -200.0\n",
            "Total reward at episode 2000: -200.0\n",
            "0.4563365\n",
            "Total reward at episode 2500: -200.0\n",
            "Total reward at episode 3000: -200.0\n",
            "0.44264640499999997\n",
            "Total reward at episode 3500: -200.0\n",
            "Total reward at episode 4000: -200.0\n",
            "0.42936701284999995\n",
            "Total reward at episode 4500: -200.0\n",
            "Total reward at episode 5000: -200.0\n",
            "0.41648600246449996\n",
            "Total reward at episode 5500: -200.0\n",
            "Total reward at episode 6000: -200.0\n",
            "0.40399142239056496\n",
            "Total reward at episode 6500: -200.0\n",
            "Total reward at episode 7000: -200.0\n",
            "0.391871679718848\n",
            "Total reward at episode 7500: -200.0\n",
            "Total reward at episode 8000: -200.0\n",
            "0.38011552932728254\n",
            "Total reward at episode 8500: -200.0\n",
            "Total reward at episode 9000: -182.0\n",
            "0.36871206344746404\n",
            "Total reward at episode 9500: -200.0\n",
            "Total reward at episode 10000: -200.0\n",
            "0.3576507015440401\n",
            "Total reward at episode 10500: -200.0\n",
            "Total reward at episode 11000: -200.0\n",
            "0.3469211804977189\n",
            "Total reward at episode 11500: -200.0\n",
            "Total reward at episode 12000: -200.0\n",
            "0.33651354508278736\n",
            "Total reward at episode 12500: -200.0\n",
            "Total reward at episode 13000: -200.0\n",
            "0.32641813873030373\n",
            "Total reward at episode 13500: -200.0\n",
            "Total reward at episode 14000: -200.0\n",
            "0.3166255945683946\n",
            "Total reward at episode 14500: -200.0\n",
            "Total reward at episode 15000: -200.0\n",
            "0.3071268267313428\n",
            "Total reward at episode 15500: -167.0\n",
            "Total reward at episode 16000: -200.0\n",
            "0.2979130219294025\n",
            "Total reward at episode 16500: -200.0\n",
            "Total reward at episode 17000: -200.0\n",
            "0.28897563127152043\n",
            "Total reward at episode 17500: -200.0\n",
            "Total reward at episode 18000: -200.0\n",
            "0.2803063623333748\n",
            "Total reward at episode 18500: -191.0\n",
            "Total reward at episode 19000: -194.0\n",
            "0.27189717146337355\n",
            "Total reward at episode 19500: -192.0\n",
            "Total reward at episode 20000: -188.0\n",
            "0.26374025631947234\n",
            "Total reward at episode 20500: -200.0\n",
            "Total reward at episode 21000: -158.0\n",
            "0.25582804862988817\n",
            "Total reward at episode 21500: -168.0\n",
            "Total reward at episode 22000: -162.0\n",
            "0.2481532071709915\n",
            "Total reward at episode 22500: -196.0\n",
            "Total reward at episode 23000: -165.0\n",
            "0.24070861095586177\n",
            "Total reward at episode 23500: -200.0\n",
            "Total reward at episode 24000: -167.0\n",
            "0.2334873526271859\n",
            "Total reward at episode 24500: -158.0\n",
            "Total reward at episode 25000: -180.0\n",
            "0.2264827320483703\n",
            "Total reward at episode 25500: -200.0\n",
            "Total reward at episode 26000: -200.0\n",
            "0.2196882500869192\n",
            "Total reward at episode 26500: -197.0\n",
            "Total reward at episode 27000: -159.0\n",
            "0.21309760258431162\n",
            "Total reward at episode 27500: -190.0\n",
            "Total reward at episode 28000: -198.0\n",
            "0.20670467450678226\n",
            "Total reward at episode 28500: -160.0\n",
            "Total reward at episode 29000: -161.0\n",
            "0.2005035342715788\n",
            "Total reward at episode 29500: -132.0\n",
            "Total reward at episode 30000: -192.0\n",
            "0.19448842824343143\n",
            "Total reward at episode 30500: -129.0\n",
            "Total reward at episode 31000: -154.0\n",
            "0.1886537753961285\n",
            "Total reward at episode 31500: -157.0\n",
            "Total reward at episode 32000: -158.0\n",
            "0.18299416213424463\n",
            "Total reward at episode 32500: -119.0\n",
            "Total reward at episode 33000: -186.0\n",
            "0.17750433727021728\n",
            "Total reward at episode 33500: -191.0\n",
            "Total reward at episode 34000: -157.0\n",
            "0.17217920715211074\n",
            "Total reward at episode 34500: -153.0\n",
            "Total reward at episode 35000: -165.0\n",
            "0.1670138309375474\n",
            "Total reward at episode 35500: -154.0\n",
            "Total reward at episode 36000: -162.0\n",
            "0.16200341600942098\n",
            "Total reward at episode 36500: -154.0\n",
            "Total reward at episode 37000: -154.0\n",
            "0.15714331352913835\n",
            "Total reward at episode 37500: -155.0\n",
            "Total reward at episode 38000: -130.0\n",
            "0.1524290141232642\n",
            "Total reward at episode 38500: -158.0\n",
            "Total reward at episode 39000: -156.0\n",
            "0.1478561436995663\n",
            "Total reward at episode 39500: -117.0\n",
            "Total reward at episode 40000: -200.0\n",
            "0.1434204593885793\n",
            "Total reward at episode 40500: -147.0\n",
            "Total reward at episode 41000: -148.0\n",
            "0.13911784560692192\n",
            "Total reward at episode 41500: -199.0\n",
            "Total reward at episode 42000: -190.0\n",
            "0.13494431023871425\n",
            "Total reward at episode 42500: -157.0\n",
            "Total reward at episode 43000: -155.0\n",
            "0.13089598093155283\n",
            "Total reward at episode 43500: -144.0\n",
            "Total reward at episode 44000: -145.0\n",
            "0.12696910150360624\n",
            "Total reward at episode 44500: -116.0\n",
            "Total reward at episode 45000: -128.0\n",
            "0.12316002845849805\n",
            "Total reward at episode 45500: -145.0\n",
            "Total reward at episode 46000: -128.0\n",
            "0.11946522760474311\n",
            "Total reward at episode 46500: -144.0\n",
            "Total reward at episode 47000: -132.0\n",
            "0.11588127077660082\n",
            "Total reward at episode 47500: -154.0\n",
            "Total reward at episode 48000: -155.0\n",
            "0.1124048326533028\n",
            "Total reward at episode 48500: -146.0\n",
            "Total reward at episode 49000: -151.0\n",
            "0.10903268767370371\n",
            "Total reward at episode 49500: -158.0\n",
            "Total reward at episode 50000: -158.0\n",
            "0.1057617070434926\n",
            "Total reward at episode 50500: -158.0\n",
            "Total reward at episode 51000: -142.0\n",
            "0.10258885583218781\n",
            "Total reward at episode 51500: -113.0\n",
            "Total reward at episode 52000: -148.0\n",
            "0.09951119015722218\n",
            "Total reward at episode 52500: -151.0\n",
            "Total reward at episode 53000: -119.0\n",
            "0.09652585445250551\n",
            "Total reward at episode 53500: -145.0\n",
            "Total reward at episode 54000: -145.0\n",
            "0.09363007881893035\n",
            "Total reward at episode 54500: -161.0\n",
            "Total reward at episode 55000: -157.0\n",
            "0.09082117645436243\n",
            "Total reward at episode 55500: -146.0\n",
            "Total reward at episode 56000: -157.0\n",
            "0.08809654116073155\n",
            "Total reward at episode 56500: -150.0\n",
            "Total reward at episode 57000: -149.0\n",
            "0.08545364492590961\n",
            "Total reward at episode 57500: -115.0\n",
            "Total reward at episode 58000: -152.0\n",
            "0.08289003557813232\n",
            "Total reward at episode 58500: -152.0\n",
            "Total reward at episode 59000: -157.0\n",
            "0.08040333451078835\n",
            "Total reward at episode 59500: -115.0\n",
            "Total reward at episode 60000: -158.0\n",
            "0.0779912344754647\n",
            "Total reward at episode 60500: -150.0\n",
            "Total reward at episode 61000: -151.0\n",
            "0.07565149744120075\n",
            "Total reward at episode 61500: -151.0\n",
            "Total reward at episode 62000: -180.0\n",
            "0.07338195251796473\n",
            "Total reward at episode 62500: -150.0\n",
            "Total reward at episode 63000: -149.0\n",
            "0.07118049394242579\n",
            "Total reward at episode 63500: -165.0\n",
            "Total reward at episode 64000: -152.0\n",
            "0.06904507912415302\n",
            "Total reward at episode 64500: -159.0\n",
            "Total reward at episode 65000: -109.0\n",
            "0.06697372675042843\n",
            "Total reward at episode 65500: -109.0\n",
            "Total reward at episode 66000: -153.0\n",
            "0.06496451494791557\n",
            "Total reward at episode 66500: -110.0\n",
            "Total reward at episode 67000: -142.0\n",
            "0.0630155794994781\n",
            "Total reward at episode 67500: -147.0\n",
            "Total reward at episode 68000: -147.0\n",
            "0.06112511211449376\n",
            "Total reward at episode 68500: -118.0\n",
            "Total reward at episode 69000: -165.0\n",
            "0.05929135875105894\n",
            "Total reward at episode 69500: -153.0\n",
            "Total reward at episode 70000: -145.0\n",
            "0.05751261798852717\n",
            "Total reward at episode 70500: -161.0\n",
            "Total reward at episode 71000: -151.0\n",
            "0.05578723944887135\n",
            "Total reward at episode 71500: -110.0\n",
            "Total reward at episode 72000: -119.0\n",
            "0.05411362226540521\n",
            "Total reward at episode 72500: -113.0\n",
            "Total reward at episode 73000: -96.0\n",
            "0.052490213597443054\n",
            "Total reward at episode 73500: -126.0\n",
            "Total reward at episode 74000: -152.0\n",
            "0.05091550718951976\n",
            "Total reward at episode 74500: -200.0\n",
            "Total reward at episode 75000: -159.0\n",
            "0.04938804197383417\n",
            "Total reward at episode 75500: -109.0\n",
            "Total reward at episode 76000: -152.0\n",
            "0.04790640071461914\n",
            "Total reward at episode 76500: -148.0\n",
            "Total reward at episode 77000: -144.0\n",
            "0.046469208693180566\n",
            "Total reward at episode 77500: -114.0\n",
            "Total reward at episode 78000: -151.0\n",
            "0.045075132432385145\n",
            "Total reward at episode 78500: -121.0\n",
            "Total reward at episode 79000: -107.0\n",
            "0.04372287845941359\n",
            "Total reward at episode 79500: -93.0\n",
            "Total reward at episode 80000: -147.0\n",
            "0.042411192105631185\n",
            "Total reward at episode 80500: -150.0\n",
            "Total reward at episode 81000: -155.0\n",
            "0.04113885634246225\n",
            "Total reward at episode 81500: -110.0\n",
            "Total reward at episode 82000: -110.0\n",
            "0.03990469065218838\n",
            "Total reward at episode 82500: -142.0\n",
            "Total reward at episode 83000: -149.0\n",
            "0.03870754993262273\n",
            "Total reward at episode 83500: -152.0\n",
            "Total reward at episode 84000: -109.0\n",
            "0.03754632343464405\n",
            "Total reward at episode 84500: -109.0\n",
            "Total reward at episode 85000: -110.0\n",
            "0.03641993373160473\n",
            "Total reward at episode 85500: -154.0\n",
            "Total reward at episode 86000: -109.0\n",
            "0.035327335719656586\n",
            "Total reward at episode 86500: -141.0\n",
            "Total reward at episode 87000: -110.0\n",
            "0.03426751564806689\n",
            "Total reward at episode 87500: -155.0\n",
            "Total reward at episode 88000: -99.0\n",
            "0.03323949017862488\n",
            "Total reward at episode 88500: -90.0\n",
            "Total reward at episode 89000: -114.0\n",
            "0.032242305473266133\n",
            "Total reward at episode 89500: -117.0\n",
            "Total reward at episode 90000: -93.0\n",
            "0.031275036309068145\n",
            "Total reward at episode 90500: -114.0\n",
            "Total reward at episode 91000: -113.0\n",
            "0.0303367852197961\n",
            "Total reward at episode 91500: -152.0\n",
            "Total reward at episode 92000: -118.0\n",
            "0.029426681663202215\n",
            "Total reward at episode 92500: -147.0\n",
            "Total reward at episode 93000: -150.0\n",
            "0.028543881213306147\n",
            "Total reward at episode 93500: -156.0\n",
            "Total reward at episode 94000: -154.0\n",
            "0.027687564776906964\n",
            "Total reward at episode 94500: -107.0\n",
            "Total reward at episode 95000: -110.0\n",
            "0.026856937833599753\n",
            "Total reward at episode 95500: -114.0\n",
            "Total reward at episode 96000: -109.0\n",
            "0.02605122969859176\n",
            "Total reward at episode 96500: -109.0\n",
            "Total reward at episode 97000: -109.0\n",
            "0.025269692807634005\n",
            "Total reward at episode 97500: -148.0\n",
            "Total reward at episode 98000: -112.0\n",
            "0.024511602023404983\n",
            "Total reward at episode 98500: -159.0\n",
            "Total reward at episode 99000: -111.0\n",
            "0.023776253962702835\n",
            "Total reward at episode 99500: -152.0\n",
            "Total reward at episode 100000: -148.0\n"
          ],
          "name": "stdout"
        },
        {
          "output_type": "display_data",
          "data": {
            "text/html": [
              "<video alt=\"test\" autoplay \n",
              "                loop controls style=\"height: 400px;\">\n",
              "                <source src=\"data:video/mp4;base64,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\" type=\"video/mp4\" />\n",
              "            </video>"
            ],
            "text/plain": [
              "<IPython.core.display.HTML object>"
            ]
          },
          "metadata": {
            "tags": []
          }
        }
      ]
    },
    {
      "cell_type": "code",
      "metadata": {
        "id": "8Rh4oX67qi-X"
      },
      "source": [
        ""
      ],
      "execution_count": null,
      "outputs": []
    }
  ]
}